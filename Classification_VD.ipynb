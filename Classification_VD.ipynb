{
  "cells": [
    {
      "cell_type": "code",
      "execution_count": null,
      "id": "d5de4169",
      "metadata": {
        "id": "d5de4169"
      },
      "outputs": [],
      "source": [
        "import pandas as pd\n",
        "import numpy as np\n",
        "import matplotlib.pyplot as plt\n",
        "import seaborn as sns\n",
        "import math\n",
        "import time"
      ]
    },
    {
      "cell_type": "code",
      "execution_count": null,
      "id": "8a91a534",
      "metadata": {
        "id": "8a91a534"
      },
      "outputs": [],
      "source": [
        "from sklearn.metrics import accuracy_score, confusion_matrix, classification_report, roc_auc_score, plot_precision_recall_curve\n",
        "from sklearn.metrics import precision_score,recall_score,f1_score\n",
        "from sklearn.linear_model import LogisticRegression\n",
        "from sklearn.model_selection import train_test_split"
      ]
    },
    {
      "cell_type": "code",
      "execution_count": null,
      "id": "fcfa275a",
      "metadata": {
        "id": "fcfa275a"
      },
      "outputs": [],
      "source": [
        "import warnings\n",
        "warnings.filterwarnings(\"ignore\")"
      ]
    },
    {
      "cell_type": "code",
      "execution_count": null,
      "id": "13ee0145",
      "metadata": {
        "id": "13ee0145"
      },
      "outputs": [],
      "source": [
        "from sklearn.preprocessing import LabelEncoder"
      ]
    },
    {
      "cell_type": "code",
      "execution_count": null,
      "id": "8cfcacd0",
      "metadata": {
        "id": "8cfcacd0"
      },
      "outputs": [],
      "source": [
        "from sklearn.feature_extraction.text import TfidfVectorizer"
      ]
    },
    {
      "cell_type": "code",
      "execution_count": null,
      "id": "25840977",
      "metadata": {
        "id": "25840977"
      },
      "outputs": [],
      "source": [
        "from sklearn.multiclass import OneVsRestClassifier"
      ]
    },
    {
      "cell_type": "code",
      "execution_count": null,
      "id": "968d7ce7",
      "metadata": {
        "id": "968d7ce7"
      },
      "outputs": [],
      "source": [
        "from sklearn.linear_model import LogisticRegression"
      ]
    },
    {
      "cell_type": "code",
      "execution_count": null,
      "id": "1824189d",
      "metadata": {
        "id": "1824189d"
      },
      "outputs": [],
      "source": [
        "from sklearn.model_selection import GridSearchCV"
      ]
    },
    {
      "cell_type": "code",
      "execution_count": null,
      "id": "e06d5183",
      "metadata": {
        "id": "e06d5183"
      },
      "outputs": [],
      "source": []
    },
    {
      "cell_type": "code",
      "execution_count": null,
      "id": "49543bb6",
      "metadata": {
        "id": "49543bb6",
        "outputId": "b27d02a7-6479-45b3-dad3-884c2eea00eb"
      },
      "outputs": [
        {
          "data": {
            "text/html": [
              "<div>\n",
              "<style scoped>\n",
              "    .dataframe tbody tr th:only-of-type {\n",
              "        vertical-align: middle;\n",
              "    }\n",
              "\n",
              "    .dataframe tbody tr th {\n",
              "        vertical-align: top;\n",
              "    }\n",
              "\n",
              "    .dataframe thead th {\n",
              "        text-align: right;\n",
              "    }\n",
              "</style>\n",
              "<table border=\"1\" class=\"dataframe\">\n",
              "  <thead>\n",
              "    <tr style=\"text-align: right;\">\n",
              "      <th></th>\n",
              "      <th>Unnamed: 0.1</th>\n",
              "      <th>Unnamed: 0</th>\n",
              "      <th>overall</th>\n",
              "      <th>verified</th>\n",
              "      <th>reviewTime</th>\n",
              "      <th>reviewerID</th>\n",
              "      <th>asin</th>\n",
              "      <th>reviewerName</th>\n",
              "      <th>reviewText</th>\n",
              "      <th>summary</th>\n",
              "      <th>unixReviewTime</th>\n",
              "      <th>title</th>\n",
              "      <th>brand</th>\n",
              "      <th>main_cat</th>\n",
              "      <th>Polarity</th>\n",
              "      <th>Analysis</th>\n",
              "    </tr>\n",
              "  </thead>\n",
              "  <tbody>\n",
              "    <tr>\n",
              "      <th>0</th>\n",
              "      <td>434179</td>\n",
              "      <td>434435</td>\n",
              "      <td>1.0</td>\n",
              "      <td>True</td>\n",
              "      <td>05 7, 2015</td>\n",
              "      <td>A1GF8Y5Z6HRYM9</td>\n",
              "      <td>B0000D9MR2</td>\n",
              "      <td>Kristy</td>\n",
              "      <td>picture shows jacks separate cables. item rece...</td>\n",
              "      <td>ripoff.</td>\n",
              "      <td>1430956800</td>\n",
              "      <td>universal rfu adapter</td>\n",
              "      <td>by intec</td>\n",
              "      <td>video games</td>\n",
              "      <td>0.000000</td>\n",
              "      <td>Neutral</td>\n",
              "    </tr>\n",
              "    <tr>\n",
              "      <th>1</th>\n",
              "      <td>1464590</td>\n",
              "      <td>1465462</td>\n",
              "      <td>1.0</td>\n",
              "      <td>True</td>\n",
              "      <td>10 11, 2015</td>\n",
              "      <td>A1BS5IMS64EAR4</td>\n",
              "      <td>B006ZNGSFW</td>\n",
              "      <td>CHARLES MELTON</td>\n",
              "      <td>good</td>\n",
              "      <td>one star</td>\n",
              "      <td>1444521600</td>\n",
              "      <td>hoyle card games download</td>\n",
              "      <td>by encore</td>\n",
              "      <td>video games</td>\n",
              "      <td>0.700000</td>\n",
              "      <td>Positive</td>\n",
              "    </tr>\n",
              "    <tr>\n",
              "      <th>2</th>\n",
              "      <td>1771737</td>\n",
              "      <td>1772883</td>\n",
              "      <td>1.0</td>\n",
              "      <td>True</td>\n",
              "      <td>12 12, 2014</td>\n",
              "      <td>AUFFVX36M1AIH</td>\n",
              "      <td>B00DTWEOZ8</td>\n",
              "      <td>Andy L.</td>\n",
              "      <td>bland fps shooter. ...</td>\n",
              "      <td>one star</td>\n",
              "      <td>1418342400</td>\n",
              "      <td>titanfall online game code</td>\n",
              "      <td>by electronic arts</td>\n",
              "      <td>video games</td>\n",
              "      <td>-0.166667</td>\n",
              "      <td>Negative</td>\n",
              "    </tr>\n",
              "    <tr>\n",
              "      <th>3</th>\n",
              "      <td>554058</td>\n",
              "      <td>554376</td>\n",
              "      <td>1.0</td>\n",
              "      <td>False</td>\n",
              "      <td>01 24, 2006</td>\n",
              "      <td>A1WCOALU7PAZHC</td>\n",
              "      <td>B0009WPZPE</td>\n",
              "      <td>Mark Twain</td>\n",
              "      <td>worst series, newest system mean best.</td>\n",
              "      <td>doa4</td>\n",
              "      <td>1138060800</td>\n",
              "      <td>dead or alive</td>\n",
              "      <td>by tecmo koei</td>\n",
              "      <td>video games</td>\n",
              "      <td>-0.104167</td>\n",
              "      <td>Negative</td>\n",
              "    </tr>\n",
              "    <tr>\n",
              "      <th>4</th>\n",
              "      <td>2375119</td>\n",
              "      <td>2377226</td>\n",
              "      <td>1.0</td>\n",
              "      <td>True</td>\n",
              "      <td>10 9, 2016</td>\n",
              "      <td>AVLKM2GMOP8E4</td>\n",
              "      <td>B00ZQB28XK</td>\n",
              "      <td>Murdock</td>\n",
              "      <td>seen coming promises spore, sense disappointme...</td>\n",
              "      <td>it happened again...</td>\n",
              "      <td>1475971200</td>\n",
              "      <td>no man s sky playstation</td>\n",
              "      <td>by sony</td>\n",
              "      <td>video games</td>\n",
              "      <td>-0.187500</td>\n",
              "      <td>Negative</td>\n",
              "    </tr>\n",
              "  </tbody>\n",
              "</table>\n",
              "</div>"
            ],
            "text/plain": [
              "   Unnamed: 0.1  Unnamed: 0  overall  verified   reviewTime      reviewerID  \\\n",
              "0        434179      434435      1.0      True   05 7, 2015  A1GF8Y5Z6HRYM9   \n",
              "1       1464590     1465462      1.0      True  10 11, 2015  A1BS5IMS64EAR4   \n",
              "2       1771737     1772883      1.0      True  12 12, 2014   AUFFVX36M1AIH   \n",
              "3        554058      554376      1.0     False  01 24, 2006  A1WCOALU7PAZHC   \n",
              "4       2375119     2377226      1.0      True   10 9, 2016   AVLKM2GMOP8E4   \n",
              "\n",
              "         asin    reviewerName  \\\n",
              "0  B0000D9MR2          Kristy   \n",
              "1  B006ZNGSFW  CHARLES MELTON   \n",
              "2  B00DTWEOZ8         Andy L.   \n",
              "3  B0009WPZPE      Mark Twain   \n",
              "4  B00ZQB28XK         Murdock   \n",
              "\n",
              "                                          reviewText               summary  \\\n",
              "0  picture shows jacks separate cables. item rece...               ripoff.   \n",
              "1                                               good              one star   \n",
              "2                             bland fps shooter. ...              one star   \n",
              "3             worst series, newest system mean best.                  doa4   \n",
              "4  seen coming promises spore, sense disappointme...  it happened again...   \n",
              "\n",
              "   unixReviewTime                       title               brand  \\\n",
              "0      1430956800       universal rfu adapter            by intec   \n",
              "1      1444521600   hoyle card games download           by encore   \n",
              "2      1418342400  titanfall online game code  by electronic arts   \n",
              "3      1138060800               dead or alive       by tecmo koei   \n",
              "4      1475971200    no man s sky playstation             by sony   \n",
              "\n",
              "      main_cat  Polarity  Analysis  \n",
              "0  video games  0.000000   Neutral  \n",
              "1  video games  0.700000  Positive  \n",
              "2  video games -0.166667  Negative  \n",
              "3  video games -0.104167  Negative  \n",
              "4  video games -0.187500  Negative  "
            ]
          },
          "execution_count": 9,
          "metadata": {},
          "output_type": "execute_result"
        }
      ],
      "source": [
        "df = pd.read_csv(\"vg_sample.csv\")\n",
        "df.head()"
      ]
    },
    {
      "cell_type": "code",
      "execution_count": null,
      "id": "ed44eebe",
      "metadata": {
        "id": "ed44eebe"
      },
      "outputs": [],
      "source": [
        "df1 = df.copy()"
      ]
    },
    {
      "cell_type": "code",
      "execution_count": null,
      "id": "71f8a0c5",
      "metadata": {
        "id": "71f8a0c5"
      },
      "outputs": [],
      "source": [
        "df1 = df1[df1.Analysis != 'Neutral']"
      ]
    },
    {
      "cell_type": "code",
      "execution_count": null,
      "id": "2e662f19",
      "metadata": {
        "id": "2e662f19"
      },
      "outputs": [],
      "source": [
        "en = LabelEncoder()\n",
        "df1['Analysis_1'] = en.fit_transform(df1['Analysis'])"
      ]
    },
    {
      "cell_type": "code",
      "execution_count": null,
      "id": "9c6018ef",
      "metadata": {
        "id": "9c6018ef"
      },
      "outputs": [],
      "source": []
    },
    {
      "cell_type": "code",
      "execution_count": null,
      "id": "75eaf18c",
      "metadata": {
        "id": "75eaf18c",
        "outputId": "788500f2-6ba5-4e95-edf5-6ef9bee5c906"
      },
      "outputs": [
        {
          "data": {
            "text/html": [
              "<div>\n",
              "<style scoped>\n",
              "    .dataframe tbody tr th:only-of-type {\n",
              "        vertical-align: middle;\n",
              "    }\n",
              "\n",
              "    .dataframe tbody tr th {\n",
              "        vertical-align: top;\n",
              "    }\n",
              "\n",
              "    .dataframe thead th {\n",
              "        text-align: right;\n",
              "    }\n",
              "</style>\n",
              "<table border=\"1\" class=\"dataframe\">\n",
              "  <thead>\n",
              "    <tr style=\"text-align: right;\">\n",
              "      <th></th>\n",
              "      <th>Unnamed: 0.1</th>\n",
              "      <th>Unnamed: 0</th>\n",
              "      <th>overall</th>\n",
              "      <th>verified</th>\n",
              "      <th>reviewTime</th>\n",
              "      <th>reviewerID</th>\n",
              "      <th>asin</th>\n",
              "      <th>reviewerName</th>\n",
              "      <th>reviewText</th>\n",
              "      <th>summary</th>\n",
              "      <th>unixReviewTime</th>\n",
              "      <th>title</th>\n",
              "      <th>brand</th>\n",
              "      <th>main_cat</th>\n",
              "      <th>Polarity</th>\n",
              "      <th>Analysis</th>\n",
              "      <th>Analysis_1</th>\n",
              "    </tr>\n",
              "  </thead>\n",
              "  <tbody>\n",
              "    <tr>\n",
              "      <th>1</th>\n",
              "      <td>1464590</td>\n",
              "      <td>1465462</td>\n",
              "      <td>1.0</td>\n",
              "      <td>True</td>\n",
              "      <td>10 11, 2015</td>\n",
              "      <td>A1BS5IMS64EAR4</td>\n",
              "      <td>B006ZNGSFW</td>\n",
              "      <td>CHARLES MELTON</td>\n",
              "      <td>good</td>\n",
              "      <td>one star</td>\n",
              "      <td>1444521600</td>\n",
              "      <td>hoyle card games download</td>\n",
              "      <td>by encore</td>\n",
              "      <td>video games</td>\n",
              "      <td>0.700000</td>\n",
              "      <td>Positive</td>\n",
              "      <td>1</td>\n",
              "    </tr>\n",
              "    <tr>\n",
              "      <th>2</th>\n",
              "      <td>1771737</td>\n",
              "      <td>1772883</td>\n",
              "      <td>1.0</td>\n",
              "      <td>True</td>\n",
              "      <td>12 12, 2014</td>\n",
              "      <td>AUFFVX36M1AIH</td>\n",
              "      <td>B00DTWEOZ8</td>\n",
              "      <td>Andy L.</td>\n",
              "      <td>bland fps shooter. ...</td>\n",
              "      <td>one star</td>\n",
              "      <td>1418342400</td>\n",
              "      <td>titanfall online game code</td>\n",
              "      <td>by electronic arts</td>\n",
              "      <td>video games</td>\n",
              "      <td>-0.166667</td>\n",
              "      <td>Negative</td>\n",
              "      <td>0</td>\n",
              "    </tr>\n",
              "    <tr>\n",
              "      <th>3</th>\n",
              "      <td>554058</td>\n",
              "      <td>554376</td>\n",
              "      <td>1.0</td>\n",
              "      <td>False</td>\n",
              "      <td>01 24, 2006</td>\n",
              "      <td>A1WCOALU7PAZHC</td>\n",
              "      <td>B0009WPZPE</td>\n",
              "      <td>Mark Twain</td>\n",
              "      <td>worst series, newest system mean best.</td>\n",
              "      <td>doa4</td>\n",
              "      <td>1138060800</td>\n",
              "      <td>dead or alive</td>\n",
              "      <td>by tecmo koei</td>\n",
              "      <td>video games</td>\n",
              "      <td>-0.104167</td>\n",
              "      <td>Negative</td>\n",
              "      <td>0</td>\n",
              "    </tr>\n",
              "    <tr>\n",
              "      <th>4</th>\n",
              "      <td>2375119</td>\n",
              "      <td>2377226</td>\n",
              "      <td>1.0</td>\n",
              "      <td>True</td>\n",
              "      <td>10 9, 2016</td>\n",
              "      <td>AVLKM2GMOP8E4</td>\n",
              "      <td>B00ZQB28XK</td>\n",
              "      <td>Murdock</td>\n",
              "      <td>seen coming promises spore, sense disappointme...</td>\n",
              "      <td>it happened again...</td>\n",
              "      <td>1475971200</td>\n",
              "      <td>no man s sky playstation</td>\n",
              "      <td>by sony</td>\n",
              "      <td>video games</td>\n",
              "      <td>-0.187500</td>\n",
              "      <td>Negative</td>\n",
              "      <td>0</td>\n",
              "    </tr>\n",
              "    <tr>\n",
              "      <th>5</th>\n",
              "      <td>2815274</td>\n",
              "      <td>2818093</td>\n",
              "      <td>1.0</td>\n",
              "      <td>True</td>\n",
              "      <td>11 18, 2016</td>\n",
              "      <td>A12ZXNUP2ZIN1S</td>\n",
              "      <td>B00TXO703Y</td>\n",
              "      <td>Tyrone Scott</td>\n",
              "      <td>1. 4 face buttons tabs original buttons button...</td>\n",
              "      <td>1. 4 face buttons don't have all the tabs ...</td>\n",
              "      <td>1479427200</td>\n",
              "      <td>modfreakz trade button set dpad share chrome g...</td>\n",
              "      <td>by mod freakz</td>\n",
              "      <td>video games</td>\n",
              "      <td>0.050529</td>\n",
              "      <td>Positive</td>\n",
              "      <td>1</td>\n",
              "    </tr>\n",
              "  </tbody>\n",
              "</table>\n",
              "</div>"
            ],
            "text/plain": [
              "   Unnamed: 0.1  Unnamed: 0  overall  verified   reviewTime      reviewerID  \\\n",
              "1       1464590     1465462      1.0      True  10 11, 2015  A1BS5IMS64EAR4   \n",
              "2       1771737     1772883      1.0      True  12 12, 2014   AUFFVX36M1AIH   \n",
              "3        554058      554376      1.0     False  01 24, 2006  A1WCOALU7PAZHC   \n",
              "4       2375119     2377226      1.0      True   10 9, 2016   AVLKM2GMOP8E4   \n",
              "5       2815274     2818093      1.0      True  11 18, 2016  A12ZXNUP2ZIN1S   \n",
              "\n",
              "         asin    reviewerName  \\\n",
              "1  B006ZNGSFW  CHARLES MELTON   \n",
              "2  B00DTWEOZ8         Andy L.   \n",
              "3  B0009WPZPE      Mark Twain   \n",
              "4  B00ZQB28XK         Murdock   \n",
              "5  B00TXO703Y    Tyrone Scott   \n",
              "\n",
              "                                          reviewText  \\\n",
              "1                                               good   \n",
              "2                             bland fps shooter. ...   \n",
              "3             worst series, newest system mean best.   \n",
              "4  seen coming promises spore, sense disappointme...   \n",
              "5  1. 4 face buttons tabs original buttons button...   \n",
              "\n",
              "                                         summary  unixReviewTime  \\\n",
              "1                                       one star      1444521600   \n",
              "2                                       one star      1418342400   \n",
              "3                                           doa4      1138060800   \n",
              "4                           it happened again...      1475971200   \n",
              "5  1. 4 face buttons don't have all the tabs ...      1479427200   \n",
              "\n",
              "                                               title               brand  \\\n",
              "1                          hoyle card games download           by encore   \n",
              "2                         titanfall online game code  by electronic arts   \n",
              "3                                      dead or alive       by tecmo koei   \n",
              "4                           no man s sky playstation             by sony   \n",
              "5  modfreakz trade button set dpad share chrome g...       by mod freakz   \n",
              "\n",
              "      main_cat  Polarity  Analysis  Analysis_1  \n",
              "1  video games  0.700000  Positive           1  \n",
              "2  video games -0.166667  Negative           0  \n",
              "3  video games -0.104167  Negative           0  \n",
              "4  video games -0.187500  Negative           0  \n",
              "5  video games  0.050529  Positive           1  "
            ]
          },
          "execution_count": 56,
          "metadata": {},
          "output_type": "execute_result"
        }
      ],
      "source": [
        "df1.head()"
      ]
    },
    {
      "cell_type": "code",
      "execution_count": null,
      "id": "0f0bb3d5",
      "metadata": {
        "id": "0f0bb3d5"
      },
      "outputs": [],
      "source": [
        "df1.dropna(inplace = True)"
      ]
    },
    {
      "cell_type": "code",
      "execution_count": null,
      "id": "9e157118",
      "metadata": {
        "id": "9e157118",
        "outputId": "addea33f-ff6f-4bce-e9b7-9116a41ac59d"
      },
      "outputs": [
        {
          "data": {
            "text/plain": [
              "Unnamed: 0.1      0\n",
              "Unnamed: 0        0\n",
              "overall           0\n",
              "verified          0\n",
              "reviewTime        0\n",
              "reviewerID        0\n",
              "asin              0\n",
              "reviewerName      0\n",
              "reviewText        0\n",
              "summary           0\n",
              "unixReviewTime    0\n",
              "title             0\n",
              "brand             0\n",
              "main_cat          0\n",
              "Polarity          0\n",
              "Analysis          0\n",
              "dtype: int64"
            ]
          },
          "execution_count": 44,
          "metadata": {},
          "output_type": "execute_result"
        }
      ],
      "source": [
        "df1.isnull().sum()"
      ]
    },
    {
      "cell_type": "code",
      "execution_count": null,
      "id": "4607d50f",
      "metadata": {
        "id": "4607d50f"
      },
      "outputs": [],
      "source": []
    },
    {
      "cell_type": "code",
      "execution_count": null,
      "id": "890ea553",
      "metadata": {
        "id": "890ea553"
      },
      "outputs": [],
      "source": []
    },
    {
      "cell_type": "code",
      "execution_count": null,
      "id": "3142fa95",
      "metadata": {
        "id": "3142fa95"
      },
      "outputs": [],
      "source": []
    },
    {
      "cell_type": "code",
      "execution_count": null,
      "id": "4d6537f2",
      "metadata": {
        "id": "4d6537f2"
      },
      "outputs": [],
      "source": [
        "model_accuracy=[]\n",
        "model_precision=[]\n",
        "model_recall=[]\n",
        "model_f1_score=[]\n",
        "model_roc_auc_score=[]\n",
        "model_train_time=[]"
      ]
    },
    {
      "cell_type": "code",
      "execution_count": null,
      "id": "e5f7e6ea",
      "metadata": {
        "id": "e5f7e6ea"
      },
      "outputs": [],
      "source": [
        "# making a function to train the model and evaluate the model\n",
        "def train_and_score (model,X_test,X_train,y_test,y_train, best_parameter=True, best_score=True):\n",
        "    #storing the start time of model training\n",
        "    start=time.time()\n",
        "    #training the model\n",
        "    #model.fit(X_train,y_train)\n",
        "    model = OneVsRestClassifier(model)\n",
        "    model.fit(X_train,y_train)\n",
        "    #storing the time when the model ended trining \n",
        "    stop = time.time()\n",
        "      #calculating the total time taken for model training \n",
        "    time_min=round((stop - start)/60,4)\n",
        "      # printing the time taken to train the model\n",
        "    print(f\"Training time: {time_min}min\")\n",
        "    model_train_time.append(time_min)\n",
        "  \n",
        "  \n",
        "\n",
        "  # finding the best parameters of the model if any \n",
        "    if best_parameter==True:\n",
        "        \n",
        "        # using try except method to avoid any error\n",
        "        try:\n",
        "            print(\"The best parameters found out to be :\" ,model.best_params_)\n",
        "        except:\n",
        "            pass\n",
        "        \n",
        "        \n",
        "  # finding best score of the model \n",
        "    if best_score==True:\n",
        "        try:\n",
        "            print(\" \\nwhere negative mean squared error is: \", model.best_score_,'\\n')\n",
        "        except:\n",
        "            pass\n",
        "\n",
        "\n",
        "  #predicting the values of y from x via model\n",
        "    y_pred_test = model.predict(X_test)\n",
        "    y_pred_train = model.predict(X_train)\n",
        "\n",
        "    def score (actual,predicted,append=True):\n",
        "        # calculating accuracy score\n",
        "        accuracy = accuracy_score(actual,predicted)\n",
        "        # calculating precision score\n",
        "        precision = precision_score(actual,predicted)\n",
        "        # calculating recall score\n",
        "        recall = recall_score(actual,predicted, average = 'weighted')\n",
        "        # calculating f1_score score\n",
        "        f1 = f1_score(actual,predicted, average = 'weighted')\n",
        "        # calculating roc_auc_score score\n",
        "        roc= roc_auc_score(actual,predicted, average = 'weighted')\n",
        "    \n",
        "        # printing all the scores\n",
        "        print(\"\\tThe accuracy is \", accuracy)\n",
        "        print(\"\\tThe precision is \", precision)\n",
        "        print(\"\\tThe recall is \", recall)\n",
        "        print(\"\\tThe f1 is \", f1)\n",
        "        print('\\tthe auc  is ',roc,'\\n')\n",
        "        print('\\t\\t\\t\\tclassification report\\n','*'*80,'\\n',classification_report(actual,predicted))\n",
        "    \n",
        "\n",
        "    # uploading all the score of the matrix in in the list \n",
        "        if append == True:\n",
        "            model_accuracy.append(accuracy)\n",
        "            model_precision.append(precision)\n",
        "            model_recall.append(recall)\n",
        "            model_f1_score.append(f1)\n",
        "            model_roc_auc_score.append(roc)\n",
        "        else:\n",
        "            pass\n",
        "    # printing the score by the help of coustom score function\n",
        "    # for train set\n",
        "    print('\\t\\t\\t\\tscore matrix for train')\n",
        "    print('*'*80)\n",
        "    score(y_train,y_pred_train,False)\n",
        "    print('\\n')\n",
        "    # for test set\n",
        "    print('\\t\\t\\t\\tscore matrix for test')\n",
        "    print('*'*80)\n",
        "    score(y_test,y_pred_test)"
      ]
    },
    {
      "cell_type": "code",
      "execution_count": null,
      "id": "32d13e8b",
      "metadata": {
        "id": "32d13e8b"
      },
      "outputs": [],
      "source": [
        "x = df1['reviewText']\n",
        "y = df1['Analysis_1']"
      ]
    },
    {
      "cell_type": "code",
      "execution_count": null,
      "id": "3c1a2271",
      "metadata": {
        "id": "3c1a2271"
      },
      "outputs": [],
      "source": [
        "X_train,X_test,y_train,y_test = train_test_split(x,y, test_size = 0.25, stratify=df1['Analysis_1'])"
      ]
    },
    {
      "cell_type": "code",
      "execution_count": null,
      "id": "20dbbf4e",
      "metadata": {
        "id": "20dbbf4e"
      },
      "outputs": [],
      "source": [
        "vectorizer = TfidfVectorizer(stop_words=\"english\",min_df=0.01,max_df=0.95)\n",
        "X_train = vectorizer.fit_transform(X_train)\n",
        "X_test =vectorizer.transform(X_test)"
      ]
    },
    {
      "cell_type": "code",
      "execution_count": null,
      "id": "09970782",
      "metadata": {
        "id": "09970782"
      },
      "outputs": [],
      "source": []
    },
    {
      "cell_type": "markdown",
      "id": "eb6891aa",
      "metadata": {
        "id": "eb6891aa"
      },
      "source": [
        "# Multinomial NB"
      ]
    },
    {
      "cell_type": "code",
      "execution_count": null,
      "id": "fedab6e9",
      "metadata": {
        "id": "fedab6e9"
      },
      "outputs": [],
      "source": [
        "from sklearn.naive_bayes import MultinomialNB\n",
        "# creating MultinomialNB model\n",
        "model = MultinomialNB()"
      ]
    },
    {
      "cell_type": "code",
      "execution_count": null,
      "id": "ddad9481",
      "metadata": {
        "id": "ddad9481",
        "outputId": "4041a9ff-f763-4e97-83f7-3c466bfb9371"
      },
      "outputs": [
        {
          "name": "stdout",
          "output_type": "stream",
          "text": [
            "Training time: 0.0029min\n",
            "\t\t\t\tscore matrix for train\n",
            "********************************************************************************\n",
            "\tThe accuracy is  0.8189129694307604\n",
            "\tThe precision is  0.8154180895902506\n",
            "\tThe recall is  0.8189129694307604\n",
            "\tThe f1 is  0.7626145566106345\n",
            "\tthe auc  is  0.5724972880680518 \n",
            "\n",
            "\t\t\t\tclassification report\n",
            " ******************************************************************************** \n",
            "               precision    recall  f1-score   support\n",
            "\n",
            "           0       0.92      0.15      0.26     82390\n",
            "           1       0.82      1.00      0.90    311012\n",
            "\n",
            "    accuracy                           0.82    393402\n",
            "   macro avg       0.87      0.57      0.58    393402\n",
            "weighted avg       0.84      0.82      0.76    393402\n",
            "\n",
            "\n",
            "\n",
            "\t\t\t\tscore matrix for test\n",
            "********************************************************************************\n",
            "\tThe accuracy is  0.8187121570302134\n",
            "\tThe precision is  0.8152775256690528\n",
            "\tThe recall is  0.8187121570302134\n",
            "\tThe f1 is  0.7622890297992251\n",
            "\tthe auc  is  0.5721084923477331 \n",
            "\n",
            "\t\t\t\tclassification report\n",
            " ******************************************************************************** \n",
            "               precision    recall  f1-score   support\n",
            "\n",
            "           0       0.92      0.15      0.25     27464\n",
            "           1       0.82      1.00      0.90    103670\n",
            "\n",
            "    accuracy                           0.82    131134\n",
            "   macro avg       0.87      0.57      0.58    131134\n",
            "weighted avg       0.84      0.82      0.76    131134\n",
            "\n"
          ]
        }
      ],
      "source": [
        "# training and evaluating the MultinomialNB\n",
        "train_and_score(model,X_test,X_train,y_test,y_train)"
      ]
    },
    {
      "cell_type": "code",
      "execution_count": null,
      "id": "09fcf4d2",
      "metadata": {
        "id": "09fcf4d2"
      },
      "outputs": [],
      "source": []
    },
    {
      "cell_type": "code",
      "execution_count": null,
      "id": "ae3bf731",
      "metadata": {
        "id": "ae3bf731"
      },
      "outputs": [],
      "source": []
    },
    {
      "cell_type": "markdown",
      "id": "97db5b5d",
      "metadata": {
        "id": "97db5b5d"
      },
      "source": [
        "# lightGBM"
      ]
    },
    {
      "cell_type": "code",
      "execution_count": null,
      "id": "7f2c6d19",
      "metadata": {
        "id": "7f2c6d19"
      },
      "outputs": [],
      "source": [
        "import lightgbm as lgb"
      ]
    },
    {
      "cell_type": "code",
      "execution_count": null,
      "id": "a25b3b3b",
      "metadata": {
        "id": "a25b3b3b"
      },
      "outputs": [],
      "source": [
        "lgbc=lgb.LGBMClassifier()\n",
        "\n",
        "lgbc_para={'n_estimators': [100,125,150],'max_depth': [15,20,25]}\n",
        "lgbc_grid=GridSearchCV(estimator=lgbc,param_grid=lgbc_para, cv=3,scoring='recall',verbose=5,n_jobs=-1)"
      ]
    },
    {
      "cell_type": "code",
      "execution_count": null,
      "id": "9c60eba6",
      "metadata": {
        "id": "9c60eba6",
        "outputId": "f65d5f40-adb6-4949-f661-ea7c1bd5240d"
      },
      "outputs": [
        {
          "name": "stdout",
          "output_type": "stream",
          "text": [
            "Fitting 3 folds for each of 9 candidates, totalling 27 fits\n",
            "Training time: 2.9497min\n",
            "\t\t\t\tscore matrix for train\n",
            "********************************************************************************\n",
            "\tThe accuracy is  0.9069043878780484\n",
            "\tThe precision is  0.9177572882346852\n",
            "\tThe recall is  0.9069043878780484\n",
            "\tThe f1 is  0.9026772059389879\n",
            "\tthe auc  is  0.8206329420469759 \n",
            "\n",
            "\t\t\t\tclassification report\n",
            " ******************************************************************************** \n",
            "               precision    recall  f1-score   support\n",
            "\n",
            "           0       0.85      0.67      0.75     82390\n",
            "           1       0.92      0.97      0.94    311012\n",
            "\n",
            "    accuracy                           0.91    393402\n",
            "   macro avg       0.88      0.82      0.85    393402\n",
            "weighted avg       0.90      0.91      0.90    393402\n",
            "\n",
            "\n",
            "\n",
            "\t\t\t\tscore matrix for test\n",
            "********************************************************************************\n",
            "\tThe accuracy is  0.90295423002425\n",
            "\tThe precision is  0.914625695267621\n",
            "\tThe recall is  0.90295423002425\n",
            "\tThe f1 is  0.8983685724362448\n",
            "\tthe auc  is  0.8133207536680831 \n",
            "\n",
            "\t\t\t\tclassification report\n",
            " ******************************************************************************** \n",
            "               precision    recall  f1-score   support\n",
            "\n",
            "           0       0.84      0.66      0.74     27464\n",
            "           1       0.91      0.97      0.94    103670\n",
            "\n",
            "    accuracy                           0.90    131134\n",
            "   macro avg       0.88      0.81      0.84    131134\n",
            "weighted avg       0.90      0.90      0.90    131134\n",
            "\n"
          ]
        }
      ],
      "source": [
        "train_and_score(lgbc_grid,X_test, X_train, y_test, y_train)"
      ]
    },
    {
      "cell_type": "code",
      "execution_count": null,
      "id": "dfe87b5b",
      "metadata": {
        "id": "dfe87b5b"
      },
      "outputs": [],
      "source": []
    },
    {
      "cell_type": "code",
      "execution_count": null,
      "id": "a9c49e44",
      "metadata": {
        "id": "a9c49e44"
      },
      "outputs": [],
      "source": []
    },
    {
      "cell_type": "code",
      "execution_count": null,
      "id": "f32d2bb5",
      "metadata": {
        "id": "f32d2bb5"
      },
      "outputs": [],
      "source": []
    },
    {
      "cell_type": "markdown",
      "id": "8473cdd0",
      "metadata": {
        "id": "8473cdd0"
      },
      "source": [
        "# Decision Tree"
      ]
    },
    {
      "cell_type": "code",
      "execution_count": null,
      "id": "7d156edb",
      "metadata": {
        "id": "7d156edb",
        "outputId": "6d44962e-ad4e-49c7-92dc-9693dc14aead"
      },
      "outputs": [
        {
          "name": "stdout",
          "output_type": "stream",
          "text": [
            "Training time: 0.1706min\n",
            "\t\t\t\tscore matrix for train\n",
            "********************************************************************************\n",
            "\tThe accuracy is  0.8391645187365595\n",
            "\tThe precision is  0.8760287175750953\n",
            "\tThe recall is  0.8391645187365595\n",
            "\tThe f1 is  0.8313649799566329\n",
            "\tthe auc  is  0.7160987849122159 \n",
            "\n",
            "\t\t\t\tclassification report\n",
            " ******************************************************************************** \n",
            "               precision    recall  f1-score   support\n",
            "\n",
            "           0       0.65      0.50      0.57     82390\n",
            "           1       0.88      0.93      0.90    311012\n",
            "\n",
            "    accuracy                           0.84    393402\n",
            "   macro avg       0.76      0.72      0.73    393402\n",
            "weighted avg       0.83      0.84      0.83    393402\n",
            "\n",
            "\n",
            "\n",
            "\t\t\t\tscore matrix for test\n",
            "********************************************************************************\n",
            "\tThe accuracy is  0.8396449433403999\n",
            "\tThe precision is  0.8760009463492757\n",
            "\tThe recall is  0.8396449433403999\n",
            "\tThe f1 is  0.8317325348006253\n",
            "\tthe auc  is  0.7162165996284733 \n",
            "\n",
            "\t\t\t\tclassification report\n",
            " ******************************************************************************** \n",
            "               precision    recall  f1-score   support\n",
            "\n",
            "           0       0.65      0.50      0.57     27464\n",
            "           1       0.88      0.93      0.90    103670\n",
            "\n",
            "    accuracy                           0.84    131134\n",
            "   macro avg       0.76      0.72      0.73    131134\n",
            "weighted avg       0.83      0.84      0.83    131134\n",
            "\n"
          ]
        }
      ],
      "source": [
        "from sklearn.tree import DecisionTreeClassifier\n",
        "# creating DecisionTree model\n",
        "DecisionTree = DecisionTreeClassifier(max_depth=10,max_leaf_nodes=45,criterion='entropy')\n",
        "\n",
        "# training and evaluating the DecisionTree\n",
        "train_and_score(DecisionTree,X_test, X_train, y_test, y_train)"
      ]
    },
    {
      "cell_type": "code",
      "execution_count": null,
      "id": "b49606c3",
      "metadata": {
        "id": "b49606c3"
      },
      "outputs": [],
      "source": []
    },
    {
      "cell_type": "markdown",
      "id": "63a6011f",
      "metadata": {
        "id": "63a6011f"
      },
      "source": [
        "# XGBoost"
      ]
    },
    {
      "cell_type": "code",
      "execution_count": null,
      "id": "2c9a3e49",
      "metadata": {
        "id": "2c9a3e49",
        "outputId": "5f4d914f-8197-4222-fdcb-b317527d08b6"
      },
      "outputs": [
        {
          "name": "stdout",
          "output_type": "stream",
          "text": [
            "Defaulting to user installation because normal site-packages is not writeable\n",
            "Collecting xgboost\n",
            "  Downloading xgboost-1.7.5-py3-none-win_amd64.whl (70.9 MB)\n",
            "     ---------------------------------------- 70.9/70.9 MB 4.4 MB/s eta 0:00:00\n",
            "Requirement already satisfied: scipy in c:\\programdata\\anaconda3\\lib\\site-packages (from xgboost) (1.9.1)\n",
            "Requirement already satisfied: numpy in c:\\programdata\\anaconda3\\lib\\site-packages (from xgboost) (1.21.5)\n",
            "Installing collected packages: xgboost\n",
            "Successfully installed xgboost-1.7.5\n",
            "Note: you may need to restart the kernel to use updated packages.\n"
          ]
        },
        {
          "name": "stderr",
          "output_type": "stream",
          "text": [
            "\n",
            "[notice] A new release of pip is available: 23.0.1 -> 23.1\n",
            "[notice] To update, run: python.exe -m pip install --upgrade pip\n"
          ]
        }
      ],
      "source": [
        "pip install xgboost"
      ]
    },
    {
      "cell_type": "code",
      "execution_count": null,
      "id": "e0144e51",
      "metadata": {
        "id": "e0144e51"
      },
      "outputs": [],
      "source": [
        "from xgboost import XGBClassifier"
      ]
    },
    {
      "cell_type": "code",
      "execution_count": null,
      "id": "c1caba09",
      "metadata": {
        "id": "c1caba09"
      },
      "outputs": [],
      "source": [
        "xgbc=XGBClassifier()"
      ]
    },
    {
      "cell_type": "code",
      "execution_count": null,
      "id": "284c5557",
      "metadata": {
        "id": "284c5557"
      },
      "outputs": [],
      "source": [
        "xgbc_param={'n_estimators': [100,125,150],'max_depth': [7,10,15],'criterion': ['entropy']}\n",
        "xgbc_grid=GridSearchCV(estimator=xgbc,param_grid=xgbc_param,cv=3,scoring='recall',verbose=5,n_jobs=-1)"
      ]
    },
    {
      "cell_type": "code",
      "execution_count": null,
      "id": "ae9ceda8",
      "metadata": {
        "id": "ae9ceda8",
        "outputId": "a6bffe27-2a8b-468e-f302-732408fa3392"
      },
      "outputs": [
        {
          "name": "stdout",
          "output_type": "stream",
          "text": [
            "Fitting 3 folds for each of 9 candidates, totalling 27 fits\n"
          ]
        }
      ],
      "source": [
        "train_and_score(xgbc_grid,X_test, X_train, y_test, y_train)"
      ]
    },
    {
      "cell_type": "code",
      "execution_count": null,
      "id": "2bcee694",
      "metadata": {
        "id": "2bcee694"
      },
      "outputs": [],
      "source": []
    },
    {
      "cell_type": "code",
      "execution_count": null,
      "id": "2fec65f6",
      "metadata": {
        "id": "2fec65f6"
      },
      "outputs": [],
      "source": []
    },
    {
      "cell_type": "code",
      "execution_count": null,
      "id": "3a5ce877",
      "metadata": {
        "id": "3a5ce877"
      },
      "outputs": [],
      "source": [
        "df['Analysis_1'] = en.fit_transform(df['Analysis'])"
      ]
    },
    {
      "cell_type": "code",
      "execution_count": null,
      "id": "f8c454dd",
      "metadata": {
        "id": "f8c454dd",
        "outputId": "3746add3-6ebf-4d7c-b823-e339f169ec72"
      },
      "outputs": [
        {
          "data": {
            "text/html": [
              "<div>\n",
              "<style scoped>\n",
              "    .dataframe tbody tr th:only-of-type {\n",
              "        vertical-align: middle;\n",
              "    }\n",
              "\n",
              "    .dataframe tbody tr th {\n",
              "        vertical-align: top;\n",
              "    }\n",
              "\n",
              "    .dataframe thead th {\n",
              "        text-align: right;\n",
              "    }\n",
              "</style>\n",
              "<table border=\"1\" class=\"dataframe\">\n",
              "  <thead>\n",
              "    <tr style=\"text-align: right;\">\n",
              "      <th></th>\n",
              "      <th>Unnamed: 0.1</th>\n",
              "      <th>Unnamed: 0</th>\n",
              "      <th>overall</th>\n",
              "      <th>verified</th>\n",
              "      <th>reviewTime</th>\n",
              "      <th>reviewerID</th>\n",
              "      <th>asin</th>\n",
              "      <th>reviewerName</th>\n",
              "      <th>reviewText</th>\n",
              "      <th>summary</th>\n",
              "      <th>unixReviewTime</th>\n",
              "      <th>title</th>\n",
              "      <th>brand</th>\n",
              "      <th>main_cat</th>\n",
              "      <th>Polarity</th>\n",
              "      <th>Analysis</th>\n",
              "      <th>Analysis_1</th>\n",
              "    </tr>\n",
              "  </thead>\n",
              "  <tbody>\n",
              "    <tr>\n",
              "      <th>0</th>\n",
              "      <td>434179</td>\n",
              "      <td>434435</td>\n",
              "      <td>1.0</td>\n",
              "      <td>True</td>\n",
              "      <td>05 7, 2015</td>\n",
              "      <td>A1GF8Y5Z6HRYM9</td>\n",
              "      <td>B0000D9MR2</td>\n",
              "      <td>Kristy</td>\n",
              "      <td>picture shows jacks separate cables. item rece...</td>\n",
              "      <td>ripoff.</td>\n",
              "      <td>1430956800</td>\n",
              "      <td>universal rfu adapter</td>\n",
              "      <td>by intec</td>\n",
              "      <td>video games</td>\n",
              "      <td>0.000000</td>\n",
              "      <td>Neutral</td>\n",
              "      <td>1</td>\n",
              "    </tr>\n",
              "    <tr>\n",
              "      <th>1</th>\n",
              "      <td>1464590</td>\n",
              "      <td>1465462</td>\n",
              "      <td>1.0</td>\n",
              "      <td>True</td>\n",
              "      <td>10 11, 2015</td>\n",
              "      <td>A1BS5IMS64EAR4</td>\n",
              "      <td>B006ZNGSFW</td>\n",
              "      <td>CHARLES MELTON</td>\n",
              "      <td>good</td>\n",
              "      <td>one star</td>\n",
              "      <td>1444521600</td>\n",
              "      <td>hoyle card games download</td>\n",
              "      <td>by encore</td>\n",
              "      <td>video games</td>\n",
              "      <td>0.700000</td>\n",
              "      <td>Positive</td>\n",
              "      <td>2</td>\n",
              "    </tr>\n",
              "    <tr>\n",
              "      <th>2</th>\n",
              "      <td>1771737</td>\n",
              "      <td>1772883</td>\n",
              "      <td>1.0</td>\n",
              "      <td>True</td>\n",
              "      <td>12 12, 2014</td>\n",
              "      <td>AUFFVX36M1AIH</td>\n",
              "      <td>B00DTWEOZ8</td>\n",
              "      <td>Andy L.</td>\n",
              "      <td>bland fps shooter. ...</td>\n",
              "      <td>one star</td>\n",
              "      <td>1418342400</td>\n",
              "      <td>titanfall online game code</td>\n",
              "      <td>by electronic arts</td>\n",
              "      <td>video games</td>\n",
              "      <td>-0.166667</td>\n",
              "      <td>Negative</td>\n",
              "      <td>0</td>\n",
              "    </tr>\n",
              "    <tr>\n",
              "      <th>3</th>\n",
              "      <td>554058</td>\n",
              "      <td>554376</td>\n",
              "      <td>1.0</td>\n",
              "      <td>False</td>\n",
              "      <td>01 24, 2006</td>\n",
              "      <td>A1WCOALU7PAZHC</td>\n",
              "      <td>B0009WPZPE</td>\n",
              "      <td>Mark Twain</td>\n",
              "      <td>worst series, newest system mean best.</td>\n",
              "      <td>doa4</td>\n",
              "      <td>1138060800</td>\n",
              "      <td>dead or alive</td>\n",
              "      <td>by tecmo koei</td>\n",
              "      <td>video games</td>\n",
              "      <td>-0.104167</td>\n",
              "      <td>Negative</td>\n",
              "      <td>0</td>\n",
              "    </tr>\n",
              "    <tr>\n",
              "      <th>4</th>\n",
              "      <td>2375119</td>\n",
              "      <td>2377226</td>\n",
              "      <td>1.0</td>\n",
              "      <td>True</td>\n",
              "      <td>10 9, 2016</td>\n",
              "      <td>AVLKM2GMOP8E4</td>\n",
              "      <td>B00ZQB28XK</td>\n",
              "      <td>Murdock</td>\n",
              "      <td>seen coming promises spore, sense disappointme...</td>\n",
              "      <td>it happened again...</td>\n",
              "      <td>1475971200</td>\n",
              "      <td>no man s sky playstation</td>\n",
              "      <td>by sony</td>\n",
              "      <td>video games</td>\n",
              "      <td>-0.187500</td>\n",
              "      <td>Negative</td>\n",
              "      <td>0</td>\n",
              "    </tr>\n",
              "  </tbody>\n",
              "</table>\n",
              "</div>"
            ],
            "text/plain": [
              "   Unnamed: 0.1  Unnamed: 0  overall  verified   reviewTime      reviewerID  \\\n",
              "0        434179      434435      1.0      True   05 7, 2015  A1GF8Y5Z6HRYM9   \n",
              "1       1464590     1465462      1.0      True  10 11, 2015  A1BS5IMS64EAR4   \n",
              "2       1771737     1772883      1.0      True  12 12, 2014   AUFFVX36M1AIH   \n",
              "3        554058      554376      1.0     False  01 24, 2006  A1WCOALU7PAZHC   \n",
              "4       2375119     2377226      1.0      True   10 9, 2016   AVLKM2GMOP8E4   \n",
              "\n",
              "         asin    reviewerName  \\\n",
              "0  B0000D9MR2          Kristy   \n",
              "1  B006ZNGSFW  CHARLES MELTON   \n",
              "2  B00DTWEOZ8         Andy L.   \n",
              "3  B0009WPZPE      Mark Twain   \n",
              "4  B00ZQB28XK         Murdock   \n",
              "\n",
              "                                          reviewText               summary  \\\n",
              "0  picture shows jacks separate cables. item rece...               ripoff.   \n",
              "1                                               good              one star   \n",
              "2                             bland fps shooter. ...              one star   \n",
              "3             worst series, newest system mean best.                  doa4   \n",
              "4  seen coming promises spore, sense disappointme...  it happened again...   \n",
              "\n",
              "   unixReviewTime                       title               brand  \\\n",
              "0      1430956800       universal rfu adapter            by intec   \n",
              "1      1444521600   hoyle card games download           by encore   \n",
              "2      1418342400  titanfall online game code  by electronic arts   \n",
              "3      1138060800               dead or alive       by tecmo koei   \n",
              "4      1475971200    no man s sky playstation             by sony   \n",
              "\n",
              "      main_cat  Polarity  Analysis  Analysis_1  \n",
              "0  video games  0.000000   Neutral           1  \n",
              "1  video games  0.700000  Positive           2  \n",
              "2  video games -0.166667  Negative           0  \n",
              "3  video games -0.104167  Negative           0  \n",
              "4  video games -0.187500  Negative           0  "
            ]
          },
          "execution_count": 18,
          "metadata": {},
          "output_type": "execute_result"
        }
      ],
      "source": [
        "df.head()"
      ]
    },
    {
      "cell_type": "code",
      "execution_count": null,
      "id": "d73da22f",
      "metadata": {
        "id": "d73da22f"
      },
      "outputs": [],
      "source": []
    },
    {
      "cell_type": "code",
      "execution_count": null,
      "id": "82796cba",
      "metadata": {
        "id": "82796cba"
      },
      "outputs": [],
      "source": [
        "df.dropna(inplace = True)"
      ]
    },
    {
      "cell_type": "markdown",
      "id": "35e6e056",
      "metadata": {
        "id": "35e6e056"
      },
      "source": [
        "# LOGISTIC REGRESSION"
      ]
    },
    {
      "cell_type": "code",
      "execution_count": null,
      "id": "1372d131",
      "metadata": {
        "id": "1372d131"
      },
      "outputs": [],
      "source": [
        "x = df['reviewText']\n",
        "y = df['Analysis']"
      ]
    },
    {
      "cell_type": "code",
      "execution_count": null,
      "id": "1953409f",
      "metadata": {
        "id": "1953409f"
      },
      "outputs": [],
      "source": [
        "cv = TfidfVectorizer()\n",
        "x = cv.fit_transform(x)"
      ]
    },
    {
      "cell_type": "code",
      "execution_count": null,
      "id": "85481f41",
      "metadata": {
        "id": "85481f41"
      },
      "outputs": [],
      "source": [
        "X_train,X_test,y_train,y_test = train_test_split(x,y, test_size = 0.2, random_state = 42)"
      ]
    },
    {
      "cell_type": "code",
      "execution_count": null,
      "id": "08bfbea4",
      "metadata": {
        "id": "08bfbea4",
        "outputId": "54674bb6-91b3-440e-cc6c-6d4b15daef8c"
      },
      "outputs": [
        {
          "name": "stdout",
          "output_type": "stream",
          "text": [
            "34.16789484024048\n"
          ]
        }
      ],
      "source": [
        "t=time.time()\n",
        "lr1=LogisticRegression(max_iter=100)\n",
        "ovr1=OneVsRestClassifier(lr1)\n",
        "ovr1.fit(X_train,y_train)\n",
        "\n",
        "y_pred_train = ovr1.predict(X_train)\n",
        "y_pred_test = ovr1.predict(X_test)\n",
        "\n",
        "end=time.time()-t\n",
        "\n",
        "print(end)"
      ]
    },
    {
      "cell_type": "code",
      "execution_count": null,
      "id": "1e4af51e",
      "metadata": {
        "id": "1e4af51e",
        "outputId": "31b7e0a6-c324-4ad3-f527-5ba3cb92cfa7"
      },
      "outputs": [
        {
          "name": "stdout",
          "output_type": "stream",
          "text": [
            "              precision    recall  f1-score   support\n",
            "\n",
            "    Negative       0.90      0.95      0.92     82198\n",
            "     Neutral       0.91      0.96      0.94     32812\n",
            "    Positive       0.99      0.97      0.98    335678\n",
            "\n",
            "    accuracy                           0.96    450688\n",
            "   macro avg       0.93      0.96      0.95    450688\n",
            "weighted avg       0.97      0.96      0.96    450688\n",
            "\n"
          ]
        }
      ],
      "source": [
        "print(classification_report(y_pred_train, y_train))"
      ]
    },
    {
      "cell_type": "code",
      "execution_count": null,
      "id": "49dcfb27",
      "metadata": {
        "id": "49dcfb27",
        "outputId": "a2388e45-b9e5-4768-d632-9168e5ceec18"
      },
      "outputs": [
        {
          "name": "stdout",
          "output_type": "stream",
          "text": [
            "              precision    recall  f1-score   support\n",
            "\n",
            "    Negative       0.87      0.94      0.91     20448\n",
            "     Neutral       0.90      0.95      0.92      8139\n",
            "    Positive       0.98      0.96      0.97     84086\n",
            "\n",
            "    accuracy                           0.96    112673\n",
            "   macro avg       0.92      0.95      0.93    112673\n",
            "weighted avg       0.96      0.96      0.96    112673\n",
            "\n"
          ]
        }
      ],
      "source": [
        "print(classification_report(y_pred_test, y_test))"
      ]
    },
    {
      "cell_type": "code",
      "execution_count": null,
      "id": "8ce65cc5",
      "metadata": {
        "id": "8ce65cc5",
        "outputId": "19850de1-33f3-4437-dcae-40462b13324a"
      },
      "outputs": [
        {
          "name": "stdout",
          "output_type": "stream",
          "text": [
            "\t\tscore matrix for train\n",
            "********************************************************************************\n",
            "Accuracy Score : 0.9642058364101108\n",
            "Precision Score : 0.9654933016567261\n",
            "F1 Score Score : 0.9645906976861628\n",
            "Recall Score : 0.9642058364101108\n",
            "\t\tclassification report\n",
            " ******************************************************************************** \n",
            "               precision    recall  f1-score   support\n",
            "\n",
            "    Negative       0.90      0.95      0.92     82198\n",
            "     Neutral       0.91      0.96      0.94     32812\n",
            "    Positive       0.99      0.97      0.98    335678\n",
            "\n",
            "    accuracy                           0.96    450688\n",
            "   macro avg       0.93      0.96      0.95    450688\n",
            "weighted avg       0.97      0.96      0.96    450688\n",
            "\n"
          ]
        }
      ],
      "source": [
        "print('\\t\\tscore matrix for train')\n",
        "print('*'*80)\n",
        "\n",
        "print(\"Accuracy Score :\", accuracy_score(y_pred_train, y_train))\n",
        "print(\"Precision Score :\", precision_score(y_pred_train, y_train, average = 'weighted'))\n",
        "print(\"F1 Score Score :\", f1_score(y_pred_train, y_train, average = 'weighted'))\n",
        "print(\"Recall Score :\", recall_score(y_pred_train, y_train, average = 'weighted'))\n",
        "\n",
        "\n",
        "\n",
        "print('\\t\\tclassification report\\n','*'*80,'\\n',classification_report(y_pred_train, y_train))"
      ]
    },
    {
      "cell_type": "code",
      "execution_count": null,
      "id": "b30472eb",
      "metadata": {
        "id": "b30472eb",
        "outputId": "dd520635-6c3b-4274-bcc8-e670945541e7"
      },
      "outputs": [
        {
          "name": "stdout",
          "output_type": "stream",
          "text": [
            "\t\tscore matrix for test\n",
            "********************************************************************************\n",
            "Accuracy Score : 0.9563426907954878\n",
            "Precision Score : 0.9581057799728819\n",
            "F1 Score Score : 0.9568846872761685\n",
            "Recall Score : 0.9563426907954878\n",
            "\t\tclassification report\n",
            " ******************************************************************************** \n",
            "               precision    recall  f1-score   support\n",
            "\n",
            "    Negative       0.87      0.94      0.91     20448\n",
            "     Neutral       0.90      0.95      0.92      8139\n",
            "    Positive       0.98      0.96      0.97     84086\n",
            "\n",
            "    accuracy                           0.96    112673\n",
            "   macro avg       0.92      0.95      0.93    112673\n",
            "weighted avg       0.96      0.96      0.96    112673\n",
            "\n"
          ]
        }
      ],
      "source": [
        "print('\\t\\tscore matrix for test')\n",
        "print('*'*80)\n",
        "\n",
        "print(\"Accuracy Score :\", accuracy_score(y_pred_test, y_test))\n",
        "print(\"Precision Score :\", precision_score(y_pred_test, y_test, average = 'weighted'))\n",
        "print(\"F1 Score Score :\", f1_score(y_pred_test, y_test, average = 'weighted'))\n",
        "print(\"Recall Score :\", recall_score(y_pred_test, y_test, average = 'weighted'))\n",
        "\n",
        "\n",
        "\n",
        "print('\\t\\tclassification report\\n','*'*80,'\\n', classification_report(y_pred_test, y_test))"
      ]
    },
    {
      "cell_type": "code",
      "execution_count": null,
      "id": "2cc8cd70",
      "metadata": {
        "id": "2cc8cd70",
        "outputId": "bbd464d3-7b22-4c8e-ab4e-567565171b30"
      },
      "outputs": [
        {
          "data": {
            "text/html": [
              "<div>\n",
              "<style scoped>\n",
              "    .dataframe tbody tr th:only-of-type {\n",
              "        vertical-align: middle;\n",
              "    }\n",
              "\n",
              "    .dataframe tbody tr th {\n",
              "        vertical-align: top;\n",
              "    }\n",
              "\n",
              "    .dataframe thead th {\n",
              "        text-align: right;\n",
              "    }\n",
              "</style>\n",
              "<table border=\"1\" class=\"dataframe\">\n",
              "  <thead>\n",
              "    <tr style=\"text-align: right;\">\n",
              "      <th></th>\n",
              "      <th>Actual</th>\n",
              "      <th>Predicted</th>\n",
              "    </tr>\n",
              "  </thead>\n",
              "  <tbody>\n",
              "    <tr>\n",
              "      <th>112252</th>\n",
              "      <td>Positive</td>\n",
              "      <td>Positive</td>\n",
              "    </tr>\n",
              "    <tr>\n",
              "      <th>198160</th>\n",
              "      <td>Positive</td>\n",
              "      <td>Positive</td>\n",
              "    </tr>\n",
              "    <tr>\n",
              "      <th>361464</th>\n",
              "      <td>Positive</td>\n",
              "      <td>Positive</td>\n",
              "    </tr>\n",
              "    <tr>\n",
              "      <th>554755</th>\n",
              "      <td>Positive</td>\n",
              "      <td>Positive</td>\n",
              "    </tr>\n",
              "    <tr>\n",
              "      <th>344849</th>\n",
              "      <td>Positive</td>\n",
              "      <td>Positive</td>\n",
              "    </tr>\n",
              "    <tr>\n",
              "      <th>401232</th>\n",
              "      <td>Positive</td>\n",
              "      <td>Positive</td>\n",
              "    </tr>\n",
              "    <tr>\n",
              "      <th>303450</th>\n",
              "      <td>Positive</td>\n",
              "      <td>Positive</td>\n",
              "    </tr>\n",
              "    <tr>\n",
              "      <th>218360</th>\n",
              "      <td>Neutral</td>\n",
              "      <td>Neutral</td>\n",
              "    </tr>\n",
              "    <tr>\n",
              "      <th>170458</th>\n",
              "      <td>Positive</td>\n",
              "      <td>Positive</td>\n",
              "    </tr>\n",
              "    <tr>\n",
              "      <th>22604</th>\n",
              "      <td>Negative</td>\n",
              "      <td>Negative</td>\n",
              "    </tr>\n",
              "    <tr>\n",
              "      <th>474633</th>\n",
              "      <td>Positive</td>\n",
              "      <td>Positive</td>\n",
              "    </tr>\n",
              "    <tr>\n",
              "      <th>249619</th>\n",
              "      <td>Positive</td>\n",
              "      <td>Positive</td>\n",
              "    </tr>\n",
              "    <tr>\n",
              "      <th>49958</th>\n",
              "      <td>Positive</td>\n",
              "      <td>Positive</td>\n",
              "    </tr>\n",
              "    <tr>\n",
              "      <th>213031</th>\n",
              "      <td>Positive</td>\n",
              "      <td>Positive</td>\n",
              "    </tr>\n",
              "    <tr>\n",
              "      <th>219040</th>\n",
              "      <td>Positive</td>\n",
              "      <td>Positive</td>\n",
              "    </tr>\n",
              "    <tr>\n",
              "      <th>387219</th>\n",
              "      <td>Positive</td>\n",
              "      <td>Positive</td>\n",
              "    </tr>\n",
              "    <tr>\n",
              "      <th>46960</th>\n",
              "      <td>Negative</td>\n",
              "      <td>Negative</td>\n",
              "    </tr>\n",
              "    <tr>\n",
              "      <th>274785</th>\n",
              "      <td>Neutral</td>\n",
              "      <td>Neutral</td>\n",
              "    </tr>\n",
              "    <tr>\n",
              "      <th>55790</th>\n",
              "      <td>Negative</td>\n",
              "      <td>Negative</td>\n",
              "    </tr>\n",
              "    <tr>\n",
              "      <th>368763</th>\n",
              "      <td>Positive</td>\n",
              "      <td>Positive</td>\n",
              "    </tr>\n",
              "    <tr>\n",
              "      <th>202195</th>\n",
              "      <td>Positive</td>\n",
              "      <td>Positive</td>\n",
              "    </tr>\n",
              "    <tr>\n",
              "      <th>315795</th>\n",
              "      <td>Positive</td>\n",
              "      <td>Positive</td>\n",
              "    </tr>\n",
              "    <tr>\n",
              "      <th>199492</th>\n",
              "      <td>Positive</td>\n",
              "      <td>Positive</td>\n",
              "    </tr>\n",
              "    <tr>\n",
              "      <th>57261</th>\n",
              "      <td>Positive</td>\n",
              "      <td>Positive</td>\n",
              "    </tr>\n",
              "    <tr>\n",
              "      <th>87315</th>\n",
              "      <td>Negative</td>\n",
              "      <td>Negative</td>\n",
              "    </tr>\n",
              "    <tr>\n",
              "      <th>340208</th>\n",
              "      <td>Positive</td>\n",
              "      <td>Positive</td>\n",
              "    </tr>\n",
              "    <tr>\n",
              "      <th>485406</th>\n",
              "      <td>Positive</td>\n",
              "      <td>Positive</td>\n",
              "    </tr>\n",
              "    <tr>\n",
              "      <th>237174</th>\n",
              "      <td>Positive</td>\n",
              "      <td>Positive</td>\n",
              "    </tr>\n",
              "    <tr>\n",
              "      <th>284624</th>\n",
              "      <td>Negative</td>\n",
              "      <td>Negative</td>\n",
              "    </tr>\n",
              "    <tr>\n",
              "      <th>39141</th>\n",
              "      <td>Negative</td>\n",
              "      <td>Negative</td>\n",
              "    </tr>\n",
              "    <tr>\n",
              "      <th>38179</th>\n",
              "      <td>Positive</td>\n",
              "      <td>Positive</td>\n",
              "    </tr>\n",
              "  </tbody>\n",
              "</table>\n",
              "</div>"
            ],
            "text/plain": [
              "          Actual Predicted\n",
              "112252  Positive  Positive\n",
              "198160  Positive  Positive\n",
              "361464  Positive  Positive\n",
              "554755  Positive  Positive\n",
              "344849  Positive  Positive\n",
              "401232  Positive  Positive\n",
              "303450  Positive  Positive\n",
              "218360   Neutral   Neutral\n",
              "170458  Positive  Positive\n",
              "22604   Negative  Negative\n",
              "474633  Positive  Positive\n",
              "249619  Positive  Positive\n",
              "49958   Positive  Positive\n",
              "213031  Positive  Positive\n",
              "219040  Positive  Positive\n",
              "387219  Positive  Positive\n",
              "46960   Negative  Negative\n",
              "274785   Neutral   Neutral\n",
              "55790   Negative  Negative\n",
              "368763  Positive  Positive\n",
              "202195  Positive  Positive\n",
              "315795  Positive  Positive\n",
              "199492  Positive  Positive\n",
              "57261   Positive  Positive\n",
              "87315   Negative  Negative\n",
              "340208  Positive  Positive\n",
              "485406  Positive  Positive\n",
              "237174  Positive  Positive\n",
              "284624  Negative  Negative\n",
              "39141   Negative  Negative\n",
              "38179   Positive  Positive"
            ]
          },
          "execution_count": 61,
          "metadata": {},
          "output_type": "execute_result"
        }
      ],
      "source": [
        "dic0 = pd.DataFrame({\"Actual\" : y_test, \"Predicted\" : y_pred_test})\n",
        "dic0[:31]"
      ]
    },
    {
      "cell_type": "code",
      "execution_count": null,
      "id": "d6d92460",
      "metadata": {
        "id": "d6d92460"
      },
      "outputs": [],
      "source": []
    },
    {
      "cell_type": "code",
      "execution_count": null,
      "id": "43405578",
      "metadata": {
        "id": "43405578"
      },
      "outputs": [],
      "source": []
    },
    {
      "cell_type": "code",
      "execution_count": null,
      "id": "0372f521",
      "metadata": {
        "id": "0372f521"
      },
      "outputs": [],
      "source": []
    },
    {
      "cell_type": "markdown",
      "id": "cca3ddeb",
      "metadata": {
        "id": "cca3ddeb"
      },
      "source": [
        "# LIGHTGBM"
      ]
    },
    {
      "cell_type": "code",
      "execution_count": null,
      "id": "ca12f02a",
      "metadata": {
        "id": "ca12f02a",
        "outputId": "7074b29a-ab21-48bd-d231-65153a6232a9"
      },
      "outputs": [
        {
          "name": "stdout",
          "output_type": "stream",
          "text": [
            "213.47250056266785\n"
          ]
        }
      ],
      "source": [
        "t = time.time()\n",
        "lgbm = lgb.LGBMClassifier()\n",
        "ovr2 = OneVsRestClassifier(lgbm)\n",
        "ovr2.fit(X_train, y_train)\n",
        "\n",
        "y_pred_train2 = ovr2.predict(X_train)\n",
        "y_pred_test2 = ovr2.predict(X_test)\n",
        "\n",
        "end = time.time()-t\n",
        "\n",
        "print(end)"
      ]
    },
    {
      "cell_type": "code",
      "execution_count": null,
      "id": "b7deafb1",
      "metadata": {
        "id": "b7deafb1",
        "outputId": "5180a2d6-44a0-4c5f-b961-4fa0f07423db"
      },
      "outputs": [
        {
          "name": "stdout",
          "output_type": "stream",
          "text": [
            "              precision    recall  f1-score   support\n",
            "\n",
            "    Negative       0.74      0.89      0.81     72461\n",
            "     Neutral       0.93      0.83      0.88     38653\n",
            "    Positive       0.97      0.94      0.95    339574\n",
            "\n",
            "    accuracy                           0.92    450688\n",
            "   macro avg       0.88      0.89      0.88    450688\n",
            "weighted avg       0.93      0.92      0.92    450688\n",
            "\n"
          ]
        }
      ],
      "source": [
        "print(classification_report(y_pred_train2, y_train))"
      ]
    },
    {
      "cell_type": "code",
      "execution_count": null,
      "id": "e62cd0bf",
      "metadata": {
        "id": "e62cd0bf",
        "outputId": "fffe1fad-b9bc-4a09-851e-6e74b023c037"
      },
      "outputs": [
        {
          "name": "stdout",
          "output_type": "stream",
          "text": [
            "              precision    recall  f1-score   support\n",
            "\n",
            "    Negative       0.72      0.89      0.80     17911\n",
            "     Neutral       0.93      0.83      0.88      9622\n",
            "    Positive       0.97      0.93      0.95     85140\n",
            "\n",
            "    accuracy                           0.92    112673\n",
            "   macro avg       0.87      0.88      0.87    112673\n",
            "weighted avg       0.93      0.92      0.92    112673\n",
            "\n"
          ]
        }
      ],
      "source": [
        "print(classification_report(y_pred_test2, y_test))"
      ]
    },
    {
      "cell_type": "code",
      "execution_count": null,
      "id": "a6c2dd45",
      "metadata": {
        "id": "a6c2dd45",
        "outputId": "9b351a6d-fab2-4e14-b42b-82289317bc6c"
      },
      "outputs": [
        {
          "name": "stdout",
          "output_type": "stream",
          "text": [
            "\t\tscore matrix for train\n",
            "********************************************************************************\n",
            "Accuracy Score : 0.9207544909116728\n",
            "Precision Score : 0.9277982723831774\n",
            "F1 Score Score : 0.9227642794120378\n",
            "Recall Score : 0.9207544909116728\n",
            "\t\tclassification report\n",
            " ******************************************************************************** \n",
            "               precision    recall  f1-score   support\n",
            "\n",
            "    Negative       0.74      0.89      0.81     72461\n",
            "     Neutral       0.93      0.83      0.88     38653\n",
            "    Positive       0.97      0.94      0.95    339574\n",
            "\n",
            "    accuracy                           0.92    450688\n",
            "   macro avg       0.88      0.89      0.88    450688\n",
            "weighted avg       0.93      0.92      0.92    450688\n",
            "\n"
          ]
        }
      ],
      "source": [
        "print('\\t\\tscore matrix for train')\n",
        "print('*'*80)\n",
        "\n",
        "print(\"Accuracy Score :\", accuracy_score(y_pred_train2, y_train))\n",
        "print(\"Precision Score :\", precision_score(y_pred_train2, y_train, average = 'weighted'))\n",
        "print(\"F1 Score Score :\", f1_score(y_pred_train2, y_train, average = 'weighted'))\n",
        "print(\"Recall Score :\", recall_score(y_pred_train2, y_train, average = 'weighted'))\n",
        "\n",
        "\n",
        "\n",
        "print('\\t\\tclassification report\\n','*'*80,'\\n',classification_report(y_pred_train2, y_train))"
      ]
    },
    {
      "cell_type": "code",
      "execution_count": null,
      "id": "4badbdf3",
      "metadata": {
        "id": "4badbdf3",
        "outputId": "88370ba4-da89-4766-ac70-89598023ee49"
      },
      "outputs": [
        {
          "name": "stdout",
          "output_type": "stream",
          "text": [
            "\t\tscore matrix for test\n",
            "********************************************************************************\n",
            "Accuracy Score : 0.916954372387351\n",
            "Precision Score : 0.9252640768064708\n",
            "F1 Score Score : 0.919337452527188\n",
            "Recall Score : 0.916954372387351\n",
            "\t\tclassification report\n",
            " ******************************************************************************** \n",
            "               precision    recall  f1-score   support\n",
            "\n",
            "    Negative       0.72      0.89      0.80     17911\n",
            "     Neutral       0.93      0.83      0.88      9622\n",
            "    Positive       0.97      0.93      0.95     85140\n",
            "\n",
            "    accuracy                           0.92    112673\n",
            "   macro avg       0.87      0.88      0.87    112673\n",
            "weighted avg       0.93      0.92      0.92    112673\n",
            "\n"
          ]
        }
      ],
      "source": [
        "print('\\t\\tscore matrix for test')\n",
        "print('*'*80)\n",
        "\n",
        "print(\"Accuracy Score :\", accuracy_score(y_pred_test2, y_test))\n",
        "print(\"Precision Score :\", precision_score(y_pred_test2, y_test, average = 'weighted'))\n",
        "print(\"F1 Score Score :\", f1_score(y_pred_test2, y_test, average = 'weighted'))\n",
        "print(\"Recall Score :\", recall_score(y_pred_test2, y_test, average = 'weighted'))\n",
        "\n",
        "\n",
        "\n",
        "print('\\t\\tclassification report\\n','*'*80,'\\n', classification_report(y_pred_test2, y_test))"
      ]
    },
    {
      "cell_type": "code",
      "execution_count": null,
      "id": "65faf013",
      "metadata": {
        "id": "65faf013",
        "outputId": "13d6c20a-9500-41ca-db70-ef5a1b54679a"
      },
      "outputs": [
        {
          "data": {
            "text/html": [
              "<div>\n",
              "<style scoped>\n",
              "    .dataframe tbody tr th:only-of-type {\n",
              "        vertical-align: middle;\n",
              "    }\n",
              "\n",
              "    .dataframe tbody tr th {\n",
              "        vertical-align: top;\n",
              "    }\n",
              "\n",
              "    .dataframe thead th {\n",
              "        text-align: right;\n",
              "    }\n",
              "</style>\n",
              "<table border=\"1\" class=\"dataframe\">\n",
              "  <thead>\n",
              "    <tr style=\"text-align: right;\">\n",
              "      <th></th>\n",
              "      <th>Actual</th>\n",
              "      <th>Predicted</th>\n",
              "    </tr>\n",
              "  </thead>\n",
              "  <tbody>\n",
              "    <tr>\n",
              "      <th>112252</th>\n",
              "      <td>Positive</td>\n",
              "      <td>Positive</td>\n",
              "    </tr>\n",
              "    <tr>\n",
              "      <th>198160</th>\n",
              "      <td>Positive</td>\n",
              "      <td>Positive</td>\n",
              "    </tr>\n",
              "    <tr>\n",
              "      <th>361464</th>\n",
              "      <td>Positive</td>\n",
              "      <td>Positive</td>\n",
              "    </tr>\n",
              "    <tr>\n",
              "      <th>554755</th>\n",
              "      <td>Positive</td>\n",
              "      <td>Positive</td>\n",
              "    </tr>\n",
              "    <tr>\n",
              "      <th>344849</th>\n",
              "      <td>Positive</td>\n",
              "      <td>Positive</td>\n",
              "    </tr>\n",
              "    <tr>\n",
              "      <th>401232</th>\n",
              "      <td>Positive</td>\n",
              "      <td>Positive</td>\n",
              "    </tr>\n",
              "    <tr>\n",
              "      <th>303450</th>\n",
              "      <td>Positive</td>\n",
              "      <td>Positive</td>\n",
              "    </tr>\n",
              "    <tr>\n",
              "      <th>218360</th>\n",
              "      <td>Neutral</td>\n",
              "      <td>Neutral</td>\n",
              "    </tr>\n",
              "    <tr>\n",
              "      <th>170458</th>\n",
              "      <td>Positive</td>\n",
              "      <td>Positive</td>\n",
              "    </tr>\n",
              "    <tr>\n",
              "      <th>22604</th>\n",
              "      <td>Negative</td>\n",
              "      <td>Negative</td>\n",
              "    </tr>\n",
              "    <tr>\n",
              "      <th>474633</th>\n",
              "      <td>Positive</td>\n",
              "      <td>Positive</td>\n",
              "    </tr>\n",
              "    <tr>\n",
              "      <th>249619</th>\n",
              "      <td>Positive</td>\n",
              "      <td>Positive</td>\n",
              "    </tr>\n",
              "    <tr>\n",
              "      <th>49958</th>\n",
              "      <td>Positive</td>\n",
              "      <td>Positive</td>\n",
              "    </tr>\n",
              "    <tr>\n",
              "      <th>213031</th>\n",
              "      <td>Positive</td>\n",
              "      <td>Positive</td>\n",
              "    </tr>\n",
              "    <tr>\n",
              "      <th>219040</th>\n",
              "      <td>Positive</td>\n",
              "      <td>Positive</td>\n",
              "    </tr>\n",
              "    <tr>\n",
              "      <th>387219</th>\n",
              "      <td>Positive</td>\n",
              "      <td>Positive</td>\n",
              "    </tr>\n",
              "    <tr>\n",
              "      <th>46960</th>\n",
              "      <td>Negative</td>\n",
              "      <td>Negative</td>\n",
              "    </tr>\n",
              "    <tr>\n",
              "      <th>274785</th>\n",
              "      <td>Neutral</td>\n",
              "      <td>Neutral</td>\n",
              "    </tr>\n",
              "    <tr>\n",
              "      <th>55790</th>\n",
              "      <td>Negative</td>\n",
              "      <td>Negative</td>\n",
              "    </tr>\n",
              "    <tr>\n",
              "      <th>368763</th>\n",
              "      <td>Positive</td>\n",
              "      <td>Positive</td>\n",
              "    </tr>\n",
              "    <tr>\n",
              "      <th>202195</th>\n",
              "      <td>Positive</td>\n",
              "      <td>Positive</td>\n",
              "    </tr>\n",
              "    <tr>\n",
              "      <th>315795</th>\n",
              "      <td>Positive</td>\n",
              "      <td>Positive</td>\n",
              "    </tr>\n",
              "    <tr>\n",
              "      <th>199492</th>\n",
              "      <td>Positive</td>\n",
              "      <td>Positive</td>\n",
              "    </tr>\n",
              "    <tr>\n",
              "      <th>57261</th>\n",
              "      <td>Positive</td>\n",
              "      <td>Positive</td>\n",
              "    </tr>\n",
              "    <tr>\n",
              "      <th>87315</th>\n",
              "      <td>Negative</td>\n",
              "      <td>Negative</td>\n",
              "    </tr>\n",
              "    <tr>\n",
              "      <th>340208</th>\n",
              "      <td>Positive</td>\n",
              "      <td>Positive</td>\n",
              "    </tr>\n",
              "    <tr>\n",
              "      <th>485406</th>\n",
              "      <td>Positive</td>\n",
              "      <td>Positive</td>\n",
              "    </tr>\n",
              "    <tr>\n",
              "      <th>237174</th>\n",
              "      <td>Positive</td>\n",
              "      <td>Positive</td>\n",
              "    </tr>\n",
              "    <tr>\n",
              "      <th>284624</th>\n",
              "      <td>Negative</td>\n",
              "      <td>Positive</td>\n",
              "    </tr>\n",
              "    <tr>\n",
              "      <th>39141</th>\n",
              "      <td>Negative</td>\n",
              "      <td>Negative</td>\n",
              "    </tr>\n",
              "    <tr>\n",
              "      <th>38179</th>\n",
              "      <td>Positive</td>\n",
              "      <td>Positive</td>\n",
              "    </tr>\n",
              "  </tbody>\n",
              "</table>\n",
              "</div>"
            ],
            "text/plain": [
              "          Actual Predicted\n",
              "112252  Positive  Positive\n",
              "198160  Positive  Positive\n",
              "361464  Positive  Positive\n",
              "554755  Positive  Positive\n",
              "344849  Positive  Positive\n",
              "401232  Positive  Positive\n",
              "303450  Positive  Positive\n",
              "218360   Neutral   Neutral\n",
              "170458  Positive  Positive\n",
              "22604   Negative  Negative\n",
              "474633  Positive  Positive\n",
              "249619  Positive  Positive\n",
              "49958   Positive  Positive\n",
              "213031  Positive  Positive\n",
              "219040  Positive  Positive\n",
              "387219  Positive  Positive\n",
              "46960   Negative  Negative\n",
              "274785   Neutral   Neutral\n",
              "55790   Negative  Negative\n",
              "368763  Positive  Positive\n",
              "202195  Positive  Positive\n",
              "315795  Positive  Positive\n",
              "199492  Positive  Positive\n",
              "57261   Positive  Positive\n",
              "87315   Negative  Negative\n",
              "340208  Positive  Positive\n",
              "485406  Positive  Positive\n",
              "237174  Positive  Positive\n",
              "284624  Negative  Positive\n",
              "39141   Negative  Negative\n",
              "38179   Positive  Positive"
            ]
          },
          "execution_count": 62,
          "metadata": {},
          "output_type": "execute_result"
        }
      ],
      "source": [
        "dic = pd.DataFrame({\"Actual\" : y_test, \"Predicted\" : y_pred_test2})\n",
        "dic[:31]"
      ]
    },
    {
      "cell_type": "code",
      "execution_count": null,
      "id": "5a7bb85a",
      "metadata": {
        "id": "5a7bb85a"
      },
      "outputs": [],
      "source": []
    }
  ],
  "metadata": {
    "kernelspec": {
      "display_name": "Python 3 (ipykernel)",
      "language": "python",
      "name": "python3"
    },
    "language_info": {
      "codemirror_mode": {
        "name": "ipython",
        "version": 3
      },
      "file_extension": ".py",
      "mimetype": "text/x-python",
      "name": "python",
      "nbconvert_exporter": "python",
      "pygments_lexer": "ipython3",
      "version": "3.9.13"
    },
    "colab": {
      "provenance": []
    }
  },
  "nbformat": 4,
  "nbformat_minor": 5
}