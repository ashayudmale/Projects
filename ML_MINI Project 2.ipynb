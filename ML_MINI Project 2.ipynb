{
 "cells": [
  {
   "cell_type": "code",
   "execution_count": 1,
   "id": "e6c1fb39",
   "metadata": {},
   "outputs": [],
   "source": [
    "import numpy as np\n",
    "import pandas as pd\n",
    "import warnings\n",
    "warnings.filterwarnings('ignore')\n",
    "from sklearn import preprocessing\n",
    "import matplotlib.pyplot as plt\n",
    "import seaborn as sns\n",
    "from sklearn.preprocessing import MinMaxScaler\n",
    "from sklearn.model_selection import train_test_split\n",
    "from sklearn.preprocessing import StandardScaler\n",
    "from sklearn.metrics import accuracy_score\n",
    "from sklearn.metrics import f1_score\n",
    "from sklearn.metrics import precision_score\n",
    "from sklearn.metrics import recall_score\n",
    "from sklearn.metrics import mean_absolute_error\n",
    "from sklearn.metrics import mean_squared_error\n",
    "from sklearn.tree import DecisionTreeRegressor\n",
    "from sklearn.ensemble import RandomForestRegressor\n",
    "from sklearn import tree\n",
    "from sklearn.model_selection import cross_val_score\n",
    "from sklearn.model_selection import GridSearchCV\n",
    "from sklearn.model_selection import KFold\n",
    "from sklearn.neighbors import KNeighborsRegressor\n",
    "from sklearn.tree import DecisionTreeRegressor\n",
    "from sklearn.svm import SVR\n",
    "from sklearn.ensemble import StackingRegressor\n",
    "from sklearn.ensemble import AdaBoostRegressor\n",
    "from sklearn.metrics import confusion_matrix\n",
    "from sklearn import preprocessing\n",
    "from sklearn.metrics import roc_curve\n",
    "from sklearn.metrics import roc_auc_score\n",
    "from sklearn.metrics import mean_squared_error\n",
    "from sklearn.metrics import mean_absolute_error"
   ]
  },
  {
   "cell_type": "code",
   "execution_count": 2,
   "id": "f53702ff",
   "metadata": {},
   "outputs": [],
   "source": [
    "df=pd.read_csv(\"Regression_Insurance_Data.csv\")"
   ]
  },
  {
   "cell_type": "code",
   "execution_count": 3,
   "id": "7d73e637",
   "metadata": {},
   "outputs": [
    {
     "data": {
      "text/html": [
       "<div>\n",
       "<style scoped>\n",
       "    .dataframe tbody tr th:only-of-type {\n",
       "        vertical-align: middle;\n",
       "    }\n",
       "\n",
       "    .dataframe tbody tr th {\n",
       "        vertical-align: top;\n",
       "    }\n",
       "\n",
       "    .dataframe thead th {\n",
       "        text-align: right;\n",
       "    }\n",
       "</style>\n",
       "<table border=\"1\" class=\"dataframe\">\n",
       "  <thead>\n",
       "    <tr style=\"text-align: right;\">\n",
       "      <th></th>\n",
       "      <th>age</th>\n",
       "      <th>sex</th>\n",
       "      <th>bmi</th>\n",
       "      <th>classif</th>\n",
       "      <th>children</th>\n",
       "      <th>smoker</th>\n",
       "      <th>region</th>\n",
       "      <th>charges</th>\n",
       "    </tr>\n",
       "  </thead>\n",
       "  <tbody>\n",
       "    <tr>\n",
       "      <th>1333</th>\n",
       "      <td>50</td>\n",
       "      <td>male</td>\n",
       "      <td>30.97</td>\n",
       "      <td>OB1</td>\n",
       "      <td>3</td>\n",
       "      <td>no</td>\n",
       "      <td>northwest</td>\n",
       "      <td>10600.5483</td>\n",
       "    </tr>\n",
       "    <tr>\n",
       "      <th>1334</th>\n",
       "      <td>18</td>\n",
       "      <td>female</td>\n",
       "      <td>31.92</td>\n",
       "      <td>OB1</td>\n",
       "      <td>0</td>\n",
       "      <td>no</td>\n",
       "      <td>northeast</td>\n",
       "      <td>2205.9808</td>\n",
       "    </tr>\n",
       "    <tr>\n",
       "      <th>1335</th>\n",
       "      <td>18</td>\n",
       "      <td>female</td>\n",
       "      <td>36.85</td>\n",
       "      <td>OB2</td>\n",
       "      <td>0</td>\n",
       "      <td>no</td>\n",
       "      <td>southeast</td>\n",
       "      <td>1629.8335</td>\n",
       "    </tr>\n",
       "    <tr>\n",
       "      <th>1336</th>\n",
       "      <td>21</td>\n",
       "      <td>female</td>\n",
       "      <td>25.80</td>\n",
       "      <td>PREO</td>\n",
       "      <td>0</td>\n",
       "      <td>no</td>\n",
       "      <td>southwest</td>\n",
       "      <td>2007.9450</td>\n",
       "    </tr>\n",
       "    <tr>\n",
       "      <th>1337</th>\n",
       "      <td>-1</td>\n",
       "      <td>female</td>\n",
       "      <td>29.07</td>\n",
       "      <td>PREO</td>\n",
       "      <td>0</td>\n",
       "      <td>yes</td>\n",
       "      <td>northwest</td>\n",
       "      <td>29141.3603</td>\n",
       "    </tr>\n",
       "  </tbody>\n",
       "</table>\n",
       "</div>"
      ],
      "text/plain": [
       "      age     sex    bmi classif  children smoker     region     charges\n",
       "1333   50    male  30.97     OB1         3     no  northwest  10600.5483\n",
       "1334   18  female  31.92     OB1         0     no  northeast   2205.9808\n",
       "1335   18  female  36.85     OB2         0     no  southeast   1629.8335\n",
       "1336   21  female  25.80    PREO         0     no  southwest   2007.9450\n",
       "1337   -1  female  29.07    PREO         0    yes  northwest  29141.3603"
      ]
     },
     "execution_count": 3,
     "metadata": {},
     "output_type": "execute_result"
    }
   ],
   "source": [
    "df.tail()"
   ]
  },
  {
   "cell_type": "code",
   "execution_count": 4,
   "id": "43b8dda1",
   "metadata": {},
   "outputs": [],
   "source": [
    "df_c=df"
   ]
  },
  {
   "cell_type": "code",
   "execution_count": 5,
   "id": "75cebba4",
   "metadata": {},
   "outputs": [
    {
     "data": {
      "text/plain": [
       "Index(['age', 'sex', 'bmi', 'classif', 'children', 'smoker', 'region',\n",
       "       'charges'],\n",
       "      dtype='object')"
      ]
     },
     "execution_count": 5,
     "metadata": {},
     "output_type": "execute_result"
    }
   ],
   "source": [
    "df_c.columns"
   ]
  },
  {
   "cell_type": "code",
   "execution_count": 6,
   "id": "ec604446",
   "metadata": {},
   "outputs": [
    {
     "name": "stdout",
     "output_type": "stream",
     "text": [
      "<class 'pandas.core.frame.DataFrame'>\n",
      "RangeIndex: 1338 entries, 0 to 1337\n",
      "Data columns (total 8 columns):\n",
      " #   Column    Non-Null Count  Dtype  \n",
      "---  ------    --------------  -----  \n",
      " 0   age       1338 non-null   int64  \n",
      " 1   sex       1338 non-null   object \n",
      " 2   bmi       1338 non-null   float64\n",
      " 3   classif   1330 non-null   object \n",
      " 4   children  1338 non-null   int64  \n",
      " 5   smoker    1338 non-null   object \n",
      " 6   region    1338 non-null   object \n",
      " 7   charges   1338 non-null   float64\n",
      "dtypes: float64(2), int64(2), object(4)\n",
      "memory usage: 83.8+ KB\n"
     ]
    }
   ],
   "source": [
    "df_c.info()"
   ]
  },
  {
   "cell_type": "code",
   "execution_count": 7,
   "id": "ec817b76",
   "metadata": {},
   "outputs": [
    {
     "data": {
      "text/plain": [
       "age         0\n",
       "sex         0\n",
       "bmi         0\n",
       "classif     8\n",
       "children    0\n",
       "smoker      0\n",
       "region      0\n",
       "charges     0\n",
       "dtype: int64"
      ]
     },
     "execution_count": 7,
     "metadata": {},
     "output_type": "execute_result"
    }
   ],
   "source": [
    "df_c.isnull().sum()"
   ]
  },
  {
   "cell_type": "code",
   "execution_count": 8,
   "id": "51a5afff",
   "metadata": {},
   "outputs": [],
   "source": [
    "df_c['classif'].fillna(df_c['classif'].mode()[0],inplace=True)"
   ]
  },
  {
   "cell_type": "code",
   "execution_count": 9,
   "id": "3fcf4351",
   "metadata": {},
   "outputs": [
    {
     "data": {
      "text/html": [
       "<div>\n",
       "<style scoped>\n",
       "    .dataframe tbody tr th:only-of-type {\n",
       "        vertical-align: middle;\n",
       "    }\n",
       "\n",
       "    .dataframe tbody tr th {\n",
       "        vertical-align: top;\n",
       "    }\n",
       "\n",
       "    .dataframe thead th {\n",
       "        text-align: right;\n",
       "    }\n",
       "</style>\n",
       "<table border=\"1\" class=\"dataframe\">\n",
       "  <thead>\n",
       "    <tr style=\"text-align: right;\">\n",
       "      <th></th>\n",
       "      <th>age</th>\n",
       "      <th>sex</th>\n",
       "      <th>bmi</th>\n",
       "      <th>classif</th>\n",
       "      <th>children</th>\n",
       "      <th>smoker</th>\n",
       "      <th>region</th>\n",
       "      <th>charges</th>\n",
       "    </tr>\n",
       "  </thead>\n",
       "  <tbody>\n",
       "    <tr>\n",
       "      <th>581</th>\n",
       "      <td>19</td>\n",
       "      <td>male</td>\n",
       "      <td>30.59</td>\n",
       "      <td>OB1</td>\n",
       "      <td>0</td>\n",
       "      <td>no</td>\n",
       "      <td>northwest</td>\n",
       "      <td>1639.5631</td>\n",
       "    </tr>\n",
       "  </tbody>\n",
       "</table>\n",
       "</div>"
      ],
      "text/plain": [
       "     age   sex    bmi classif  children smoker     region    charges\n",
       "581   19  male  30.59     OB1         0     no  northwest  1639.5631"
      ]
     },
     "execution_count": 9,
     "metadata": {},
     "output_type": "execute_result"
    }
   ],
   "source": [
    "df_c[df_c.duplicated()].head()"
   ]
  },
  {
   "cell_type": "code",
   "execution_count": 10,
   "id": "a7fe0bb4",
   "metadata": {},
   "outputs": [],
   "source": [
    "df_c=df_c.drop_duplicates(ignore_index=True)"
   ]
  },
  {
   "cell_type": "code",
   "execution_count": 11,
   "id": "4493aa52",
   "metadata": {},
   "outputs": [
    {
     "data": {
      "text/plain": [
       "(1337, 8)"
      ]
     },
     "execution_count": 11,
     "metadata": {},
     "output_type": "execute_result"
    }
   ],
   "source": [
    "df_c.shape"
   ]
  },
  {
   "cell_type": "code",
   "execution_count": 12,
   "id": "38e7560c",
   "metadata": {},
   "outputs": [
    {
     "data": {
      "text/plain": [
       "array(['PREO', 'OB1', 'N', 'OB2', 'OB3', 'UW'], dtype=object)"
      ]
     },
     "execution_count": 12,
     "metadata": {},
     "output_type": "execute_result"
    }
   ],
   "source": [
    "df_c['classif'].unique()"
   ]
  },
  {
   "cell_type": "code",
   "execution_count": 13,
   "id": "0aceab37",
   "metadata": {},
   "outputs": [
    {
     "data": {
      "text/plain": [
       "array(['southwest', 'southeast', 'northwest', 'northeast'], dtype=object)"
      ]
     },
     "execution_count": 13,
     "metadata": {},
     "output_type": "execute_result"
    }
   ],
   "source": [
    "df_c['region'].unique()"
   ]
  },
  {
   "cell_type": "code",
   "execution_count": 14,
   "id": "22407986",
   "metadata": {},
   "outputs": [
    {
     "data": {
      "text/plain": [
       "array(['female', 'male'], dtype=object)"
      ]
     },
     "execution_count": 14,
     "metadata": {},
     "output_type": "execute_result"
    }
   ],
   "source": [
    "df_c['sex'].unique()"
   ]
  },
  {
   "cell_type": "code",
   "execution_count": 15,
   "id": "47b62504",
   "metadata": {},
   "outputs": [
    {
     "data": {
      "text/plain": [
       "array(['yes', 'no'], dtype=object)"
      ]
     },
     "execution_count": 15,
     "metadata": {},
     "output_type": "execute_result"
    }
   ],
   "source": [
    "df_c['smoker'].unique()"
   ]
  },
  {
   "cell_type": "code",
   "execution_count": null,
   "id": "9f49db05",
   "metadata": {},
   "outputs": [],
   "source": []
  },
  {
   "cell_type": "code",
   "execution_count": null,
   "id": "1e40d8e6",
   "metadata": {},
   "outputs": [],
   "source": []
  },
  {
   "cell_type": "markdown",
   "id": "4d8dfa9d",
   "metadata": {},
   "source": [
    "## EDA"
   ]
  },
  {
   "cell_type": "code",
   "execution_count": 16,
   "id": "1ea3655e",
   "metadata": {},
   "outputs": [
    {
     "data": {
      "text/plain": [
       "array([[<AxesSubplot:title={'center':'age'}>,\n",
       "        <AxesSubplot:title={'center':'bmi'}>],\n",
       "       [<AxesSubplot:title={'center':'children'}>,\n",
       "        <AxesSubplot:title={'center':'charges'}>]], dtype=object)"
      ]
     },
     "execution_count": 16,
     "metadata": {},
     "output_type": "execute_result"
    },
    {
     "data": {
      "image/png": "[encoded data removed]",
      "text/plain": [
       "<Figure size 720x720 with 4 Axes>"
      ]
     },
     "metadata": {
      "needs_background": "light"
     },
     "output_type": "display_data"
    }
   ],
   "source": [
    "df_c.hist(figsize=(10,10),bins=10)"
   ]
  },
  {
   "cell_type": "code",
   "execution_count": 17,
   "id": "5cd11937",
   "metadata": {},
   "outputs": [
    {
     "data": {
      "text/plain": [
       "<AxesSubplot:xlabel='smoker', ylabel='count'>"
      ]
     },
     "execution_count": 17,
     "metadata": {},
     "output_type": "execute_result"
    },
    {
     "data": {
      "image/png": "[encoded data removed]",
      "text/plain": [
       "<Figure size 432x288 with 1 Axes>"
      ]
     },
     "metadata": {
      "needs_background": "light"
     },
     "output_type": "display_data"
    }
   ],
   "source": [
    "sns.countplot(x=df_c['smoker'])"
   ]
  },
  {
   "cell_type": "code",
   "execution_count": 18,
   "id": "419065f9",
   "metadata": {},
   "outputs": [
    {
     "data": {
      "text/plain": [
       "<AxesSubplot:xlabel='sex', ylabel='count'>"
      ]
     },
     "execution_count": 18,
     "metadata": {},
     "output_type": "execute_result"
    },
    {
     "data": {
      "image/png": "[encoded data removed]",
      "text/plain": [
       "<Figure size 432x288 with 1 Axes>"
      ]
     },
     "metadata": {
      "needs_background": "light"
     },
     "output_type": "display_data"
    }
   ],
   "source": [
    "sns.countplot(x=df_c['sex'])"
   ]
  },
  {
   "cell_type": "code",
   "execution_count": 19,
   "id": "ddfebefd",
   "metadata": {},
   "outputs": [
    {
     "data": {
      "text/plain": [
       "<AxesSubplot:xlabel='children', ylabel='count'>"
      ]
     },
     "execution_count": 19,
     "metadata": {},
     "output_type": "execute_result"
    },
    {
     "data": {
      "image/png": "[encoded data removed]",
      "text/plain": [
       "<Figure size 432x288 with 1 Axes>"
      ]
     },
     "metadata": {
      "needs_background": "light"
     },
     "output_type": "display_data"
    }
   ],
   "source": [
    "sns.countplot(x=df_c['children'])"
   ]
  },
  {
   "cell_type": "code",
   "execution_count": 20,
   "id": "1f527e55",
   "metadata": {},
   "outputs": [
    {
     "data": {
      "text/plain": [
       "<AxesSubplot:xlabel='children', ylabel='charges'>"
      ]
     },
     "execution_count": 20,
     "metadata": {},
     "output_type": "execute_result"
    },
    {
     "data": {
      "image/png": "[encoded data removed]",
      "text/plain": [
       "<Figure size 432x288 with 1 Axes>"
      ]
     },
     "metadata": {
      "needs_background": "light"
     },
     "output_type": "display_data"
    }
   ],
   "source": [
    "sns.barplot(x = 'children', y ='charges', data = df_c)"
   ]
  },
  {
   "cell_type": "code",
   "execution_count": 21,
   "id": "92e98b03",
   "metadata": {},
   "outputs": [
    {
     "data": {
      "text/plain": [
       "<AxesSubplot:xlabel='region', ylabel='charges'>"
      ]
     },
     "execution_count": 21,
     "metadata": {},
     "output_type": "execute_result"
    },
    {
     "data": {
      "image/png": "[encoded data removed]",
      "text/plain": [
       "<Figure size 432x288 with 1 Axes>"
      ]
     },
     "metadata": {
      "needs_background": "light"
     },
     "output_type": "display_data"
    }
   ],
   "source": [
    "sns.barplot(x = 'region', y ='charges', data = df_c)"
   ]
  },
  {
   "cell_type": "code",
   "execution_count": 22,
   "id": "4f4b7e64",
   "metadata": {},
   "outputs": [
    {
     "data": {
      "text/plain": [
       "<AxesSubplot:xlabel='sex', ylabel='charges'>"
      ]
     },
     "execution_count": 22,
     "metadata": {},
     "output_type": "execute_result"
    },
    {
     "data": {
      "image/png": "[encoded data removed]",
      "text/plain": [
       "<Figure size 432x288 with 1 Axes>"
      ]
     },
     "metadata": {
      "needs_background": "light"
     },
     "output_type": "display_data"
    }
   ],
   "source": [
    "sns.barplot(x = 'sex', y ='charges', data = df_c)"
   ]
  },
  {
   "cell_type": "code",
   "execution_count": 23,
   "id": "52e8fe66",
   "metadata": {},
   "outputs": [
    {
     "data": {
      "text/plain": [
       "<AxesSubplot:xlabel='smoker', ylabel='charges'>"
      ]
     },
     "execution_count": 23,
     "metadata": {},
     "output_type": "execute_result"
    },
    {
     "data": {
      "image/png": "[encoded data removed]",
      "text/plain": [
       "<Figure size 432x288 with 1 Axes>"
      ]
     },
     "metadata": {
      "needs_background": "light"
     },
     "output_type": "display_data"
    }
   ],
   "source": [
    "sns.barplot(x = 'smoker', y ='charges', data = df_c)"
   ]
  },
  {
   "cell_type": "code",
   "execution_count": 24,
   "id": "5dd63ba2",
   "metadata": {},
   "outputs": [
    {
     "data": {
      "text/plain": [
       "<matplotlib.collections.PathCollection at 0x2305eaa2850>"
      ]
     },
     "execution_count": 24,
     "metadata": {},
     "output_type": "execute_result"
    },
    {
     "data": {
      "image/png": "[encoded data removed]",
      "text/plain": [
       "<Figure size 432x288 with 1 Axes>"
      ]
     },
     "metadata": {
      "needs_background": "light"
     },
     "output_type": "display_data"
    }
   ],
   "source": [
    "plt.scatter(x=df_c['bmi'],y=df_c['charges'])\n"
   ]
  },
  {
   "cell_type": "code",
   "execution_count": 25,
   "id": "9cae8beb",
   "metadata": {},
   "outputs": [
    {
     "data": {
      "text/plain": [
       "Text(0, 0.5, 'Frequency')"
      ]
     },
     "execution_count": 25,
     "metadata": {},
     "output_type": "execute_result"
    },
    {
     "data": {
      "image/png": "[encoded data removed]",
      "text/plain": [
       "<Figure size 432x288 with 1 Axes>"
      ]
     },
     "metadata": {
      "needs_background": "light"
     },
     "output_type": "display_data"
    }
   ],
   "source": [
    "plt.hist(df_c['charges'],bins=10)\n",
    "plt.xlabel('charges')\n",
    "plt.ylabel('Frequency')"
   ]
  },
  {
   "cell_type": "code",
   "execution_count": 26,
   "id": "3b1ff17d",
   "metadata": {},
   "outputs": [
    {
     "data": {
      "image/png": "[encoded data removed]",
      "text/plain": [
       "<Figure size 1440x720 with 2 Axes>"
      ]
     },
     "metadata": {
      "needs_background": "light"
     },
     "output_type": "display_data"
    }
   ],
   "source": [
    "plt.figure(figsize=(20,10))\n",
    "sns.heatmap(df_c.corr(), annot=True);"
   ]
  },
  {
   "cell_type": "code",
   "execution_count": 27,
   "id": "b661d29d",
   "metadata": {},
   "outputs": [],
   "source": [
    "df_c2=df_c"
   ]
  },
  {
   "cell_type": "code",
   "execution_count": 28,
   "id": "b428b4c7",
   "metadata": {},
   "outputs": [],
   "source": [
    "lable_encoder=preprocessing.LabelEncoder()\n",
    "col=['sex','classif','smoker','region']\n",
    "for i in col:\n",
    "    df_c[i]=df_c[i].astype('category')\n",
    "    df_c[i]=lable_encoder.fit_transform(df_c[i])"
   ]
  },
  {
   "cell_type": "code",
   "execution_count": 29,
   "id": "db003d90",
   "metadata": {},
   "outputs": [
    {
     "name": "stdout",
     "output_type": "stream",
     "text": [
      "<class 'pandas.core.frame.DataFrame'>\n",
      "RangeIndex: 1337 entries, 0 to 1336\n",
      "Data columns (total 8 columns):\n",
      " #   Column    Non-Null Count  Dtype  \n",
      "---  ------    --------------  -----  \n",
      " 0   age       1337 non-null   int64  \n",
      " 1   sex       1337 non-null   int32  \n",
      " 2   bmi       1337 non-null   float64\n",
      " 3   classif   1337 non-null   int32  \n",
      " 4   children  1337 non-null   int64  \n",
      " 5   smoker    1337 non-null   int32  \n",
      " 6   region    1337 non-null   int32  \n",
      " 7   charges   1337 non-null   float64\n",
      "dtypes: float64(2), int32(4), int64(2)\n",
      "memory usage: 62.8 KB\n"
     ]
    }
   ],
   "source": [
    "df_c.info()"
   ]
  },
  {
   "cell_type": "code",
   "execution_count": 30,
   "id": "5d7f68a3",
   "metadata": {},
   "outputs": [],
   "source": [
    "scaler=StandardScaler()\n",
    "scaled=pd.DataFrame(scaler.fit_transform(df_c),columns=df_c.columns)"
   ]
  },
  {
   "cell_type": "code",
   "execution_count": 31,
   "id": "4d1f3669",
   "metadata": {},
   "outputs": [],
   "source": [
    "scaled=scaled.drop(['charges'],axis=1)"
   ]
  },
  {
   "cell_type": "code",
   "execution_count": 32,
   "id": "0cf7207d",
   "metadata": {},
   "outputs": [],
   "source": [
    "y=df_c.charges"
   ]
  },
  {
   "cell_type": "code",
   "execution_count": 33,
   "id": "2cbdbf71",
   "metadata": {},
   "outputs": [],
   "source": [
    "x=scaled"
   ]
  },
  {
   "cell_type": "code",
   "execution_count": 34,
   "id": "ef1c0404",
   "metadata": {},
   "outputs": [],
   "source": [
    "x_train,x_test,y_train,y_test=train_test_split(x,y,test_size=0.2,random_state=42)"
   ]
  },
  {
   "cell_type": "code",
   "execution_count": 35,
   "id": "567173aa",
   "metadata": {},
   "outputs": [
    {
     "data": {
      "text/html": [
       "<div>\n",
       "<style scoped>\n",
       "    .dataframe tbody tr th:only-of-type {\n",
       "        vertical-align: middle;\n",
       "    }\n",
       "\n",
       "    .dataframe tbody tr th {\n",
       "        vertical-align: top;\n",
       "    }\n",
       "\n",
       "    .dataframe thead th {\n",
       "        text-align: right;\n",
       "    }\n",
       "</style>\n",
       "<table border=\"1\" class=\"dataframe\">\n",
       "  <thead>\n",
       "    <tr style=\"text-align: right;\">\n",
       "      <th></th>\n",
       "      <th>age</th>\n",
       "      <th>sex</th>\n",
       "      <th>bmi</th>\n",
       "      <th>classif</th>\n",
       "      <th>children</th>\n",
       "      <th>smoker</th>\n",
       "      <th>region</th>\n",
       "    </tr>\n",
       "  </thead>\n",
       "  <tbody>\n",
       "    <tr>\n",
       "      <th>1113</th>\n",
       "      <td>-1.080298</td>\n",
       "      <td>0.990324</td>\n",
       "      <td>-1.009063</td>\n",
       "      <td>-1.349351</td>\n",
       "      <td>-0.909234</td>\n",
       "      <td>-0.507702</td>\n",
       "      <td>-1.372274</td>\n",
       "    </tr>\n",
       "    <tr>\n",
       "      <th>967</th>\n",
       "      <td>-1.214090</td>\n",
       "      <td>0.990324</td>\n",
       "      <td>-0.806543</td>\n",
       "      <td>1.282425</td>\n",
       "      <td>0.750351</td>\n",
       "      <td>-0.507702</td>\n",
       "      <td>-1.372274</td>\n",
       "    </tr>\n",
       "  </tbody>\n",
       "</table>\n",
       "</div>"
      ],
      "text/plain": [
       "           age       sex       bmi   classif  children    smoker    region\n",
       "1113 -1.080298  0.990324 -1.009063 -1.349351 -0.909234 -0.507702 -1.372274\n",
       "967  -1.214090  0.990324 -0.806543  1.282425  0.750351 -0.507702 -1.372274"
      ]
     },
     "execution_count": 35,
     "metadata": {},
     "output_type": "execute_result"
    }
   ],
   "source": [
    "x_train.head(2)"
   ]
  },
  {
   "cell_type": "code",
   "execution_count": 36,
   "id": "22444d2e",
   "metadata": {},
   "outputs": [
    {
     "data": {
      "text/plain": [
       "1113    2396.09590\n",
       "967     3279.86855\n",
       "Name: charges, dtype: float64"
      ]
     },
     "execution_count": 36,
     "metadata": {},
     "output_type": "execute_result"
    }
   ],
   "source": [
    "y_train.head(2)"
   ]
  },
  {
   "cell_type": "markdown",
   "id": "b2c1d952",
   "metadata": {},
   "source": [
    "## Linear Regression"
   ]
  },
  {
   "cell_type": "code",
   "execution_count": 37,
   "id": "8bdcda30",
   "metadata": {},
   "outputs": [],
   "source": [
    "from sklearn.linear_model import LinearRegression\n",
    "lr=LinearRegression()"
   ]
  },
  {
   "cell_type": "code",
   "execution_count": 38,
   "id": "57179b9d",
   "metadata": {},
   "outputs": [
    {
     "data": {
      "text/plain": [
       "LinearRegression()"
      ]
     },
     "execution_count": 38,
     "metadata": {},
     "output_type": "execute_result"
    }
   ],
   "source": [
    "lr.fit(x_train,y_train)"
   ]
  },
  {
   "cell_type": "code",
   "execution_count": 39,
   "id": "baf7e003",
   "metadata": {},
   "outputs": [],
   "source": [
    "y_pred=lr.predict(x_test)"
   ]
  },
  {
   "cell_type": "code",
   "execution_count": 40,
   "id": "ba2b11f2",
   "metadata": {},
   "outputs": [
    {
     "data": {
      "text/plain": [
       "0.7161980956295226"
      ]
     },
     "execution_count": 40,
     "metadata": {},
     "output_type": "execute_result"
    }
   ],
   "source": [
    "lr.score(x_train,y_train)"
   ]
  },
  {
   "cell_type": "code",
   "execution_count": 41,
   "id": "73ca2d4f",
   "metadata": {},
   "outputs": [
    {
     "name": "stdout",
     "output_type": "stream",
     "text": [
      "MAE =  4353.944085013068\n",
      "MSE =  37233804.09744821\n",
      "RMSE =  6101.9508435784865\n"
     ]
    }
   ],
   "source": [
    "print(\"MAE = \",mean_absolute_error(y_test,y_pred))\n",
    "print(\"MSE = \",mean_squared_error(y_test,y_pred))\n",
    "print(\"RMSE = \",mean_squared_error(y_test,y_pred, squared=False))"
   ]
  },
  {
   "cell_type": "code",
   "execution_count": 42,
   "id": "dce6d1f7",
   "metadata": {},
   "outputs": [
    {
     "data": {
      "text/plain": [
       "<matplotlib.collections.PathCollection at 0x23060048fa0>"
      ]
     },
     "execution_count": 42,
     "metadata": {},
     "output_type": "execute_result"
    },
    {
     "data": {
      "image/png": "[encoded data removed]",
      "text/plain": [
       "<Figure size 432x288 with 1 Axes>"
      ]
     },
     "metadata": {
      "needs_background": "light"
     },
     "output_type": "display_data"
    }
   ],
   "source": [
    "plt.scatter(y_test,y_pred)\n"
   ]
  },
  {
   "cell_type": "code",
   "execution_count": null,
   "id": "3422f766",
   "metadata": {},
   "outputs": [],
   "source": []
  },
  {
   "cell_type": "markdown",
   "id": "91a1c9a3",
   "metadata": {},
   "source": [
    "## Lasso"
   ]
  },
  {
   "cell_type": "code",
   "execution_count": 43,
   "id": "f8f571db",
   "metadata": {},
   "outputs": [],
   "source": [
    "from sklearn.linear_model import Lasso"
   ]
  },
  {
   "cell_type": "code",
   "execution_count": 44,
   "id": "ac0ca956",
   "metadata": {},
   "outputs": [],
   "source": [
    "lrl=Lasso()"
   ]
  },
  {
   "cell_type": "code",
   "execution_count": 45,
   "id": "6a289014",
   "metadata": {},
   "outputs": [
    {
     "data": {
      "text/plain": [
       "Lasso()"
      ]
     },
     "execution_count": 45,
     "metadata": {},
     "output_type": "execute_result"
    }
   ],
   "source": [
    "lrl.fit(x_train,y_train)"
   ]
  },
  {
   "cell_type": "code",
   "execution_count": 46,
   "id": "0f6cc910",
   "metadata": {},
   "outputs": [
    {
     "data": {
      "text/plain": [
       "0.7161980482809898"
      ]
     },
     "execution_count": 46,
     "metadata": {},
     "output_type": "execute_result"
    }
   ],
   "source": [
    "lrl.score(x_train,y_train)"
   ]
  },
  {
   "cell_type": "code",
   "execution_count": 47,
   "id": "b2ac1f7c",
   "metadata": {},
   "outputs": [],
   "source": [
    "y_pred_l=lrl.predict(x_test)"
   ]
  },
  {
   "cell_type": "code",
   "execution_count": 48,
   "id": "fb464feb",
   "metadata": {},
   "outputs": [
    {
     "name": "stdout",
     "output_type": "stream",
     "text": [
      "MAE =  4353.903081266607\n",
      "MSE =  37238750.37947356\n",
      "RMSE =  6102.356133451534\n"
     ]
    }
   ],
   "source": [
    "print(\"MAE = \",mean_absolute_error(y_test,y_pred_l))\n",
    "print(\"MSE = \",mean_squared_error(y_test,y_pred_l))\n",
    "print(\"RMSE = \",mean_squared_error(y_test,y_pred_l, squared=False))"
   ]
  },
  {
   "cell_type": "code",
   "execution_count": 49,
   "id": "6c39214e",
   "metadata": {},
   "outputs": [
    {
     "data": {
      "text/plain": [
       "<matplotlib.collections.PathCollection at 0x23060359f40>"
      ]
     },
     "execution_count": 49,
     "metadata": {},
     "output_type": "execute_result"
    },
    {
     "data": {
      "image/png": "[encoded data removed]",
      "text/plain": [
       "<Figure size 432x288 with 1 Axes>"
      ]
     },
     "metadata": {
      "needs_background": "light"
     },
     "output_type": "display_data"
    }
   ],
   "source": [
    "plt.scatter(y_test,y_pred_l)"
   ]
  },
  {
   "cell_type": "code",
   "execution_count": null,
   "id": "98f92b28",
   "metadata": {},
   "outputs": [],
   "source": []
  },
  {
   "cell_type": "markdown",
   "id": "3e51d392",
   "metadata": {},
   "source": [
    "## DecisionTreeRegressor"
   ]
  },
  {
   "cell_type": "code",
   "execution_count": 50,
   "id": "3de0954b",
   "metadata": {},
   "outputs": [],
   "source": [
    "dtr=DecisionTreeRegressor(max_depth=3)"
   ]
  },
  {
   "cell_type": "code",
   "execution_count": 51,
   "id": "90102eac",
   "metadata": {},
   "outputs": [
    {
     "data": {
      "text/plain": [
       "DecisionTreeRegressor(max_depth=3)"
      ]
     },
     "execution_count": 51,
     "metadata": {},
     "output_type": "execute_result"
    }
   ],
   "source": [
    "dtr.fit(x_train,y_train)"
   ]
  },
  {
   "cell_type": "code",
   "execution_count": 52,
   "id": "912d30fb",
   "metadata": {},
   "outputs": [
    {
     "data": {
      "text/plain": [
       "0.8426997479703602"
      ]
     },
     "execution_count": 52,
     "metadata": {},
     "output_type": "execute_result"
    }
   ],
   "source": [
    "dtr.score(x_train,y_train)"
   ]
  },
  {
   "cell_type": "code",
   "execution_count": 53,
   "id": "393861ea",
   "metadata": {},
   "outputs": [],
   "source": [
    "dtr_y_pred=dtr.predict(x_test)"
   ]
  },
  {
   "cell_type": "code",
   "execution_count": 54,
   "id": "3c121d48",
   "metadata": {},
   "outputs": [
    {
     "name": "stdout",
     "output_type": "stream",
     "text": [
      "mse is 20065848.433313314\n",
      "mae is 2786.2061514166353\n",
      "rmse is 4479.491983842958\n"
     ]
    }
   ],
   "source": [
    "mse1=mean_squared_error(y_test,dtr_y_pred)\n",
    "mae1=mean_absolute_error(y_test,dtr_y_pred)\n",
    "rmse1 = mean_squared_error(y_test, dtr_y_pred, squared=False)\n",
    "print('mse is',mse1)\n",
    "print('mae is',mae1)\n",
    "print('rmse is',rmse1)"
   ]
  },
  {
   "cell_type": "code",
   "execution_count": 55,
   "id": "883ae55f",
   "metadata": {},
   "outputs": [
    {
     "data": {
      "text/plain": [
       "<matplotlib.collections.PathCollection at 0x230603d0880>"
      ]
     },
     "execution_count": 55,
     "metadata": {},
     "output_type": "execute_result"
    },
    {
     "data": {
      "image/png": "[encoded data removed]",
      "text/plain": [
       "<Figure size 432x288 with 1 Axes>"
      ]
     },
     "metadata": {
      "needs_background": "light"
     },
     "output_type": "display_data"
    }
   ],
   "source": [
    "plt.scatter(y_test,dtr_y_pred)"
   ]
  },
  {
   "cell_type": "code",
   "execution_count": 56,
   "id": "b8b66f4a",
   "metadata": {},
   "outputs": [
    {
     "data": {
      "image/png": "[encoded data removed]",
      "text/plain": [
       "<Figure size 2160x1440 with 1 Axes>"
      ]
     },
     "metadata": {
      "needs_background": "light"
     },
     "output_type": "display_data"
    }
   ],
   "source": [
    "from sklearn import tree \n",
    "\n",
    "fig, ax = plt.subplots(figsize=(30,20))\n",
    "tree.plot_tree(dtr)\n",
    "plt.show()"
   ]
  },
  {
   "cell_type": "code",
   "execution_count": null,
   "id": "b888cae4",
   "metadata": {},
   "outputs": [],
   "source": []
  },
  {
   "cell_type": "code",
   "execution_count": null,
   "id": "34463760",
   "metadata": {},
   "outputs": [],
   "source": []
  },
  {
   "cell_type": "markdown",
   "id": "6a6a0909",
   "metadata": {},
   "source": [
    "## Random Forest Regressor"
   ]
  },
  {
   "cell_type": "code",
   "execution_count": 57,
   "id": "e465efb6",
   "metadata": {},
   "outputs": [
    {
     "data": {
      "text/plain": [
       "RandomForestRegressor(n_estimators=10, oob_score=True)"
      ]
     },
     "execution_count": 57,
     "metadata": {},
     "output_type": "execute_result"
    }
   ],
   "source": [
    "rf=RandomForestRegressor(n_estimators=10,oob_score=True) \n",
    "rf.fit(x_train,y_train)"
   ]
  },
  {
   "cell_type": "code",
   "execution_count": 58,
   "id": "0c83198b",
   "metadata": {},
   "outputs": [],
   "source": [
    "kf=KFold(n_splits=10)"
   ]
  },
  {
   "cell_type": "code",
   "execution_count": 59,
   "id": "9dd11de5",
   "metadata": {},
   "outputs": [
    {
     "data": {
      "text/plain": [
       "-26250289.25896365"
      ]
     },
     "execution_count": 59,
     "metadata": {},
     "output_type": "execute_result"
    }
   ],
   "source": [
    "cross_val_score(rf,x,y,cv=kf,scoring=\"neg_mean_squared_error\").mean()"
   ]
  },
  {
   "cell_type": "code",
   "execution_count": 60,
   "id": "379ed005",
   "metadata": {},
   "outputs": [
    {
     "data": {
      "text/plain": [
       "0.7365139979591333"
      ]
     },
     "execution_count": 60,
     "metadata": {},
     "output_type": "execute_result"
    }
   ],
   "source": [
    "rf.oob_score_"
   ]
  },
  {
   "cell_type": "code",
   "execution_count": 61,
   "id": "9e2e2591",
   "metadata": {},
   "outputs": [
    {
     "data": {
      "text/plain": [
       "0.9656967542232444"
      ]
     },
     "execution_count": 61,
     "metadata": {},
     "output_type": "execute_result"
    }
   ],
   "source": [
    "rf.score(x_train,y_train)"
   ]
  },
  {
   "cell_type": "code",
   "execution_count": 62,
   "id": "f304eb26",
   "metadata": {},
   "outputs": [],
   "source": [
    "par={\"max_depth\":[4,6,8,10,12],\"n_estimators\":[6,10,12]}"
   ]
  },
  {
   "cell_type": "code",
   "execution_count": 63,
   "id": "49fa6fbd",
   "metadata": {},
   "outputs": [],
   "source": [
    "grid_s=GridSearchCV(estimator=rf,param_grid=par,cv=4,scoring=\"neg_mean_squared_error\")"
   ]
  },
  {
   "cell_type": "code",
   "execution_count": 64,
   "id": "22705486",
   "metadata": {},
   "outputs": [
    {
     "data": {
      "text/plain": [
       "GridSearchCV(cv=4,\n",
       "             estimator=RandomForestRegressor(n_estimators=10, oob_score=True),\n",
       "             param_grid={'max_depth': [4, 6, 8, 10, 12],\n",
       "                         'n_estimators': [6, 10, 12]},\n",
       "             scoring='neg_mean_squared_error')"
      ]
     },
     "execution_count": 64,
     "metadata": {},
     "output_type": "execute_result"
    }
   ],
   "source": [
    "grid_s.fit(x_train,y_train)\n"
   ]
  },
  {
   "cell_type": "code",
   "execution_count": 65,
   "id": "ac6d7f0d",
   "metadata": {},
   "outputs": [
    {
     "data": {
      "text/plain": [
       "-21663942.522109002"
      ]
     },
     "execution_count": 65,
     "metadata": {},
     "output_type": "execute_result"
    }
   ],
   "source": [
    "grid_s.best_score_"
   ]
  },
  {
   "cell_type": "code",
   "execution_count": 66,
   "id": "c52222ca",
   "metadata": {},
   "outputs": [
    {
     "data": {
      "text/plain": [
       "RandomForestRegressor(max_depth=4, n_estimators=10, oob_score=True)"
      ]
     },
     "execution_count": 66,
     "metadata": {},
     "output_type": "execute_result"
    }
   ],
   "source": [
    "grid_s.best_estimator_"
   ]
  },
  {
   "cell_type": "markdown",
   "id": "e7569159",
   "metadata": {},
   "source": [
    "## Random Forest Regressor best"
   ]
  },
  {
   "cell_type": "code",
   "execution_count": 67,
   "id": "e6543914",
   "metadata": {},
   "outputs": [
    {
     "data": {
      "text/plain": [
       "RandomForestRegressor(max_depth=4, n_estimators=10, oob_score=True)"
      ]
     },
     "execution_count": 67,
     "metadata": {},
     "output_type": "execute_result"
    }
   ],
   "source": [
    "rf_best=RandomForestRegressor(max_depth=4, n_estimators=10, oob_score=True) \n",
    "rf_best.fit(x_train,y_train)"
   ]
  },
  {
   "cell_type": "code",
   "execution_count": 68,
   "id": "39c95bf2",
   "metadata": {},
   "outputs": [],
   "source": [
    "rf_y_pred=rf_best.predict(x_test)"
   ]
  },
  {
   "cell_type": "code",
   "execution_count": 69,
   "id": "a99aeb7c",
   "metadata": {},
   "outputs": [
    {
     "data": {
      "text/plain": [
       "0.8280810365232323"
      ]
     },
     "execution_count": 69,
     "metadata": {},
     "output_type": "execute_result"
    }
   ],
   "source": [
    "rf_best.oob_score_"
   ]
  },
  {
   "cell_type": "code",
   "execution_count": 70,
   "id": "16417c36",
   "metadata": {},
   "outputs": [
    {
     "data": {
      "text/plain": [
       "0.8640548544199926"
      ]
     },
     "execution_count": 70,
     "metadata": {},
     "output_type": "execute_result"
    }
   ],
   "source": [
    "rf_best.score(x_train,y_train)"
   ]
  },
  {
   "cell_type": "code",
   "execution_count": 71,
   "id": "8e0fb824",
   "metadata": {},
   "outputs": [
    {
     "name": "stdout",
     "output_type": "stream",
     "text": [
      "mse is 18427517.909544114\n",
      "mae is 2484.4012296044457\n",
      "rmse is 4292.728492409474\n"
     ]
    }
   ],
   "source": [
    "mse1=mean_squared_error(y_test,rf_y_pred)\n",
    "mae1=mean_absolute_error(y_test,rf_y_pred)\n",
    "rmse1 = mean_squared_error(y_test, rf_y_pred, squared=False)\n",
    "print('mse is',mse1)\n",
    "print('mae is',mae1)\n",
    "print('rmse is',rmse1)"
   ]
  },
  {
   "cell_type": "code",
   "execution_count": 72,
   "id": "26d1f3dc",
   "metadata": {},
   "outputs": [
    {
     "data": {
      "text/plain": [
       "<matplotlib.collections.PathCollection at 0x230604aea30>"
      ]
     },
     "execution_count": 72,
     "metadata": {},
     "output_type": "execute_result"
    },
    {
     "data": {
      "image/png": "[encoded data removed]",
      "text/plain": [
       "<Figure size 432x288 with 1 Axes>"
      ]
     },
     "metadata": {
      "needs_background": "light"
     },
     "output_type": "display_data"
    }
   ],
   "source": [
    "plt.scatter(y_test,rf_y_pred)"
   ]
  },
  {
   "cell_type": "markdown",
   "id": "7f3f3e5e",
   "metadata": {},
   "source": [
    "## SVR"
   ]
  },
  {
   "cell_type": "code",
   "execution_count": 73,
   "id": "286ca24f",
   "metadata": {},
   "outputs": [],
   "source": [
    "svr = SVR()"
   ]
  },
  {
   "cell_type": "code",
   "execution_count": 74,
   "id": "c39ef7f1",
   "metadata": {},
   "outputs": [
    {
     "data": {
      "text/plain": [
       "SVR()"
      ]
     },
     "execution_count": 74,
     "metadata": {},
     "output_type": "execute_result"
    }
   ],
   "source": [
    "svr.fit(x_train, y_train)"
   ]
  },
  {
   "cell_type": "code",
   "execution_count": 75,
   "id": "95c53b61",
   "metadata": {},
   "outputs": [
    {
     "data": {
      "text/plain": [
       "-0.09715856479221086"
      ]
     },
     "execution_count": 75,
     "metadata": {},
     "output_type": "execute_result"
    }
   ],
   "source": [
    "y_pred_svr = svr.predict(x_test)\n",
    "svr.score(x_train,y_train)"
   ]
  },
  {
   "cell_type": "code",
   "execution_count": 76,
   "id": "ca18fb73",
   "metadata": {},
   "outputs": [
    {
     "name": "stdout",
     "output_type": "stream",
     "text": [
      "mae is 9261.572300401196\n",
      "mse is 207713111.42138812\n",
      "rmse is 14412.255597975916\n"
     ]
    }
   ],
   "source": [
    "mse1=mean_squared_error(y_test,y_pred_svr)\n",
    "mae1=mean_absolute_error(y_test,y_pred_svr)\n",
    "rmse1 = mean_squared_error(y_test, y_pred_svr, squared=False)\n",
    "print('mae is',mae1)\n",
    "print('mse is',mse1)\n",
    "print('rmse is',rmse1)"
   ]
  },
  {
   "cell_type": "code",
   "execution_count": 77,
   "id": "e0d28249",
   "metadata": {},
   "outputs": [
    {
     "data": {
      "text/plain": [
       "<matplotlib.collections.PathCollection at 0x2306050c2e0>"
      ]
     },
     "execution_count": 77,
     "metadata": {},
     "output_type": "execute_result"
    },
    {
     "data": {
      "image/png": "[encoded data removed]",
      "text/plain": [
       "<Figure size 432x288 with 1 Axes>"
      ]
     },
     "metadata": {
      "needs_background": "light"
     },
     "output_type": "display_data"
    }
   ],
   "source": [
    "plt.scatter(y_test,y_pred_svr)"
   ]
  },
  {
   "cell_type": "code",
   "execution_count": null,
   "id": "a41436ae",
   "metadata": {},
   "outputs": [],
   "source": []
  },
  {
   "cell_type": "markdown",
   "id": "ba757e99",
   "metadata": {},
   "source": [
    "## stacking"
   ]
  },
  {
   "cell_type": "code",
   "execution_count": 78,
   "id": "1c2e1a5d",
   "metadata": {},
   "outputs": [],
   "source": [
    "def get_stacking():\n",
    "    l0=list()\n",
    "    l0.append(  (\"dtr\",DecisionTreeRegressor()))\n",
    "    l0.append(   (\"knr\",KNeighborsRegressor()))\n",
    "    l0.append(  (\"svr\",SVR()))\n",
    "    \n",
    "    l1=LinearRegression()\n",
    "    \n",
    "    model=StackingRegressor(estimators=l0,final_estimator=l1,cv=4)\n",
    "    return model"
   ]
  },
  {
   "cell_type": "code",
   "execution_count": 79,
   "id": "2a1b40e1",
   "metadata": {},
   "outputs": [],
   "source": [
    "dtm=get_stacking()"
   ]
  },
  {
   "cell_type": "code",
   "execution_count": 80,
   "id": "d12ff44d",
   "metadata": {},
   "outputs": [
    {
     "data": {
      "text/plain": [
       "StackingRegressor(cv=4,\n",
       "                  estimators=[('dtr', DecisionTreeRegressor()),\n",
       "                              ('knr', KNeighborsRegressor()), ('svr', SVR())],\n",
       "                  final_estimator=LinearRegression())"
      ]
     },
     "execution_count": 80,
     "metadata": {},
     "output_type": "execute_result"
    }
   ],
   "source": [
    "dtm"
   ]
  },
  {
   "cell_type": "code",
   "execution_count": 81,
   "id": "d18048c9",
   "metadata": {},
   "outputs": [],
   "source": [
    "from sklearn.model_selection import RepeatedKFold\n",
    "r_kf=RepeatedKFold(n_splits=4)"
   ]
  },
  {
   "cell_type": "code",
   "execution_count": 82,
   "id": "db290692",
   "metadata": {},
   "outputs": [],
   "source": [
    "st_result=cross_val_score(dtm,x,y,cv=4,scoring=\"neg_mean_squared_error\")"
   ]
  },
  {
   "cell_type": "code",
   "execution_count": 83,
   "id": "bad6eb74",
   "metadata": {},
   "outputs": [
    {
     "data": {
      "text/plain": [
       "-24542452.558895055"
      ]
     },
     "execution_count": 83,
     "metadata": {},
     "output_type": "execute_result"
    }
   ],
   "source": [
    "st_result.mean()"
   ]
  },
  {
   "cell_type": "code",
   "execution_count": null,
   "id": "aba93f6c",
   "metadata": {},
   "outputs": [],
   "source": []
  },
  {
   "cell_type": "code",
   "execution_count": 84,
   "id": "cadce845",
   "metadata": {},
   "outputs": [],
   "source": [
    "dic={\n",
    "    'Algorithm':['Linear Regression','Decision Tree','Random Forest','SVR'],\n",
    "    'MSE':[37233804.09,20065848.4,18902240.47,207713111.42],\n",
    "    'MAE':[4353.94, 2786.20,2633.26, 9261.57],\n",
    "    'RMSE':[6101.95,4479.49,4347.67,14412.25]\n",
    "\n",
    "}"
   ]
  },
  {
   "cell_type": "code",
   "execution_count": 85,
   "id": "8ae64b88",
   "metadata": {},
   "outputs": [],
   "source": [
    "data=pd.DataFrame(dic)"
   ]
  },
  {
   "cell_type": "code",
   "execution_count": 86,
   "id": "e0737ad4",
   "metadata": {},
   "outputs": [
    {
     "data": {
      "text/html": [
       "<div>\n",
       "<style scoped>\n",
       "    .dataframe tbody tr th:only-of-type {\n",
       "        vertical-align: middle;\n",
       "    }\n",
       "\n",
       "    .dataframe tbody tr th {\n",
       "        vertical-align: top;\n",
       "    }\n",
       "\n",
       "    .dataframe thead th {\n",
       "        text-align: right;\n",
       "    }\n",
       "</style>\n",
       "<table border=\"1\" class=\"dataframe\">\n",
       "  <thead>\n",
       "    <tr style=\"text-align: right;\">\n",
       "      <th></th>\n",
       "      <th>Algorithm</th>\n",
       "      <th>MSE</th>\n",
       "      <th>MAE</th>\n",
       "      <th>RMSE</th>\n",
       "    </tr>\n",
       "  </thead>\n",
       "  <tbody>\n",
       "    <tr>\n",
       "      <th>0</th>\n",
       "      <td>Linear Regression</td>\n",
       "      <td>3.723380e+07</td>\n",
       "      <td>4353.94</td>\n",
       "      <td>6101.95</td>\n",
       "    </tr>\n",
       "    <tr>\n",
       "      <th>1</th>\n",
       "      <td>Decision Tree</td>\n",
       "      <td>2.006585e+07</td>\n",
       "      <td>2786.20</td>\n",
       "      <td>4479.49</td>\n",
       "    </tr>\n",
       "    <tr>\n",
       "      <th>2</th>\n",
       "      <td>Random Forest</td>\n",
       "      <td>1.890224e+07</td>\n",
       "      <td>2633.26</td>\n",
       "      <td>4347.67</td>\n",
       "    </tr>\n",
       "    <tr>\n",
       "      <th>3</th>\n",
       "      <td>SVR</td>\n",
       "      <td>2.077131e+08</td>\n",
       "      <td>9261.57</td>\n",
       "      <td>14412.25</td>\n",
       "    </tr>\n",
       "  </tbody>\n",
       "</table>\n",
       "</div>"
      ],
      "text/plain": [
       "           Algorithm           MSE      MAE      RMSE\n",
       "0  Linear Regression  3.723380e+07  4353.94   6101.95\n",
       "1      Decision Tree  2.006585e+07  2786.20   4479.49\n",
       "2      Random Forest  1.890224e+07  2633.26   4347.67\n",
       "3                SVR  2.077131e+08  9261.57  14412.25"
      ]
     },
     "execution_count": 86,
     "metadata": {},
     "output_type": "execute_result"
    }
   ],
   "source": [
    "data"
   ]
  },
  {
   "cell_type": "code",
   "execution_count": null,
   "id": "e2518e85",
   "metadata": {},
   "outputs": [],
   "source": []
  },
  {
   "cell_type": "code",
   "execution_count": null,
   "id": "64d51fbc",
   "metadata": {},
   "outputs": [],
   "source": []
  },
  {
   "cell_type": "code",
   "execution_count": 87,
   "id": "e414d4a0",
   "metadata": {},
   "outputs": [],
   "source": [
    "dic1={\n",
    "    \n",
    "    'Age':[],'Gender':[],'bmi':[],'classif':[],'children':[],'smoker':[],'region':[]\n",
    "}\n",
    "new_data=pd.DataFrame(dic1)"
   ]
  },
  {
   "cell_type": "code",
   "execution_count": 88,
   "id": "5fa00a73",
   "metadata": {},
   "outputs": [
    {
     "data": {
      "text/html": [
       "<div>\n",
       "<style scoped>\n",
       "    .dataframe tbody tr th:only-of-type {\n",
       "        vertical-align: middle;\n",
       "    }\n",
       "\n",
       "    .dataframe tbody tr th {\n",
       "        vertical-align: top;\n",
       "    }\n",
       "\n",
       "    .dataframe thead th {\n",
       "        text-align: right;\n",
       "    }\n",
       "</style>\n",
       "<table border=\"1\" class=\"dataframe\">\n",
       "  <thead>\n",
       "    <tr style=\"text-align: right;\">\n",
       "      <th></th>\n",
       "      <th>Age</th>\n",
       "      <th>Gender</th>\n",
       "      <th>bmi</th>\n",
       "      <th>classif</th>\n",
       "      <th>children</th>\n",
       "      <th>smoker</th>\n",
       "      <th>region</th>\n",
       "    </tr>\n",
       "  </thead>\n",
       "  <tbody>\n",
       "  </tbody>\n",
       "</table>\n",
       "</div>"
      ],
      "text/plain": [
       "Empty DataFrame\n",
       "Columns: [Age, Gender, bmi, classif, children, smoker, region]\n",
       "Index: []"
      ]
     },
     "execution_count": 88,
     "metadata": {},
     "output_type": "execute_result"
    }
   ],
   "source": [
    "new_data"
   ]
  },
  {
   "cell_type": "code",
   "execution_count": 89,
   "id": "b4cdb7db",
   "metadata": {},
   "outputs": [],
   "source": [
    "import ipywidgets as rb"
   ]
  },
  {
   "cell_type": "code",
   "execution_count": 90,
   "id": "b92bf844",
   "metadata": {},
   "outputs": [],
   "source": [
    "def pred():\n",
    "    new_input=[]\n",
    "    Age=int(input('Enter age : '))\n",
    "    new_input.append(Age)\n",
    "\n",
    "    Gender=input('Enter Gender : ')\n",
    "    new_input.append(Gender)\n",
    "\n",
    "    bmi=float(input('Enter bmi : '))\n",
    "    new_input.append(bmi)\n",
    "\n",
    "    classif=input('Enter classif : ')\n",
    "    new_input.append(classif)\n",
    "\n",
    "    children=int(input('Enter children : '))\n",
    "    new_input.append(children)\n",
    "\n",
    "    smoker=input('Enter smoker : ')\n",
    "    new_input.append(smoker)\n",
    "\n",
    "    region=input('Enter region : ')\n",
    "    new_input.append(region)\n",
    "    \n",
    "    \n",
    "    \n",
    "    \n",
    "    \n",
    "    return new_input\n"
   ]
  },
  {
   "cell_type": "code",
   "execution_count": 91,
   "id": "34bcc3f6",
   "metadata": {},
   "outputs": [
    {
     "name": "stdout",
     "output_type": "stream",
     "text": [
      "Enter age : 25\n",
      "Enter Gender : male\n",
      "Enter bmi : 15\n",
      "Enter classif : PREO\n",
      "Enter children : 2\n",
      "Enter smoker : yes\n",
      "Enter region : southwest\n"
     ]
    }
   ],
   "source": [
    "new_input=pred()"
   ]
  },
  {
   "cell_type": "code",
   "execution_count": 92,
   "id": "d6238015",
   "metadata": {},
   "outputs": [
    {
     "data": {
      "text/plain": [
       "[25, 'male', 15.0, 'PREO', 2, 'yes', 'southwest']"
      ]
     },
     "execution_count": 92,
     "metadata": {},
     "output_type": "execute_result"
    }
   ],
   "source": [
    "new_input"
   ]
  },
  {
   "cell_type": "code",
   "execution_count": 93,
   "id": "15faa23b",
   "metadata": {},
   "outputs": [],
   "source": [
    "new_data.loc[len(new_data)]=new_input"
   ]
  },
  {
   "cell_type": "code",
   "execution_count": 94,
   "id": "ce320012",
   "metadata": {},
   "outputs": [
    {
     "data": {
      "text/html": [
       "<div>\n",
       "<style scoped>\n",
       "    .dataframe tbody tr th:only-of-type {\n",
       "        vertical-align: middle;\n",
       "    }\n",
       "\n",
       "    .dataframe tbody tr th {\n",
       "        vertical-align: top;\n",
       "    }\n",
       "\n",
       "    .dataframe thead th {\n",
       "        text-align: right;\n",
       "    }\n",
       "</style>\n",
       "<table border=\"1\" class=\"dataframe\">\n",
       "  <thead>\n",
       "    <tr style=\"text-align: right;\">\n",
       "      <th></th>\n",
       "      <th>Age</th>\n",
       "      <th>Gender</th>\n",
       "      <th>bmi</th>\n",
       "      <th>classif</th>\n",
       "      <th>children</th>\n",
       "      <th>smoker</th>\n",
       "      <th>region</th>\n",
       "    </tr>\n",
       "  </thead>\n",
       "  <tbody>\n",
       "    <tr>\n",
       "      <th>0</th>\n",
       "      <td>25</td>\n",
       "      <td>male</td>\n",
       "      <td>15.0</td>\n",
       "      <td>PREO</td>\n",
       "      <td>2</td>\n",
       "      <td>yes</td>\n",
       "      <td>southwest</td>\n",
       "    </tr>\n",
       "  </tbody>\n",
       "</table>\n",
       "</div>"
      ],
      "text/plain": [
       "   Age Gender   bmi classif  children smoker     region\n",
       "0   25   male  15.0    PREO         2    yes  southwest"
      ]
     },
     "execution_count": 94,
     "metadata": {},
     "output_type": "execute_result"
    }
   ],
   "source": [
    "new_data"
   ]
  },
  {
   "cell_type": "code",
   "execution_count": 95,
   "id": "da8b37f2",
   "metadata": {},
   "outputs": [
    {
     "data": {
      "text/plain": [
       "Index(['Age', 'Gender', 'bmi', 'classif', 'children', 'smoker', 'region'], dtype='object')"
      ]
     },
     "execution_count": 95,
     "metadata": {},
     "output_type": "execute_result"
    }
   ],
   "source": [
    "new_data.columns"
   ]
  },
  {
   "cell_type": "code",
   "execution_count": 96,
   "id": "6d4427fc",
   "metadata": {},
   "outputs": [
    {
     "name": "stdout",
     "output_type": "stream",
     "text": [
      "[122812.21061033]\n"
     ]
    }
   ],
   "source": [
    "col=[ 'Gender' ,'classif', 'smoker', 'region']\n",
    "for i in col:\n",
    "    new_data[i]=new_data[i].astype('category')\n",
    "    new_data[i]=lable_encoder.fit_transform(new_data[i])\n",
    "        \n",
    "        \n",
    "scaler=StandardScaler()\n",
    "scaled1=pd.DataFrame(scaler.fit_transform(new_data),columns=new_data.columns)\n",
    "    \n",
    "predict=lr.predict(new_data)\n",
    "    \n",
    "print(predict)"
   ]
  },
  {
   "cell_type": "code",
   "execution_count": null,
   "id": "d0f75d52",
   "metadata": {},
   "outputs": [],
   "source": []
  },
  {
   "cell_type": "code",
   "execution_count": null,
   "id": "c889ef10",
   "metadata": {},
   "outputs": [],
   "source": []
  },
  {
   "cell_type": "code",
   "execution_count": null,
   "id": "5468b982",
   "metadata": {},
   "outputs": [],
   "source": []
  },
  {
   "cell_type": "code",
   "execution_count": 97,
   "id": "34d3011e",
   "metadata": {},
   "outputs": [],
   "source": [
    "dic2={\n",
    "    \n",
    "    'Age':[],'Gender':[],'bmi':[],'classif':[],'children':[],'smoker':[],'region':[]\n",
    "}\n",
    "new_data1=pd.DataFrame(dic1)"
   ]
  },
  {
   "cell_type": "code",
   "execution_count": 98,
   "id": "6e55417f",
   "metadata": {},
   "outputs": [],
   "source": [
    "def pred1():\n",
    "    new_input1=[]\n",
    "    Age=input('Enter age : ')\n",
    "    new_input1.append(Age)\n",
    "\n",
    "    Gender=input('Enter Gender : ')\n",
    "    new_input1.append(Gender)\n",
    "\n",
    "    bmi=input('Enter bmi : ')\n",
    "    new_input1.append(bmi)\n",
    "\n",
    "    classif=input('Enter classif : ')\n",
    "    new_input1.append(classif)\n",
    "\n",
    "    children=input('Enter children : ')\n",
    "    new_input1.append(children)\n",
    "\n",
    "    smoker=input('Enter smoker : ')\n",
    "    new_input1.append(smoker)\n",
    "\n",
    "    region=input('Enter region : ')\n",
    "    new_input1.append(region)\n",
    "    \n",
    "    \n",
    "    \n",
    "    \n",
    "    \n",
    "    return new_input1"
   ]
  },
  {
   "cell_type": "code",
   "execution_count": 99,
   "id": "3b7096c3",
   "metadata": {},
   "outputs": [
    {
     "data": {
      "text/html": [
       "<div>\n",
       "<style scoped>\n",
       "    .dataframe tbody tr th:only-of-type {\n",
       "        vertical-align: middle;\n",
       "    }\n",
       "\n",
       "    .dataframe tbody tr th {\n",
       "        vertical-align: top;\n",
       "    }\n",
       "\n",
       "    .dataframe thead th {\n",
       "        text-align: right;\n",
       "    }\n",
       "</style>\n",
       "<table border=\"1\" class=\"dataframe\">\n",
       "  <thead>\n",
       "    <tr style=\"text-align: right;\">\n",
       "      <th></th>\n",
       "      <th>age</th>\n",
       "      <th>sex</th>\n",
       "      <th>bmi</th>\n",
       "      <th>classif</th>\n",
       "      <th>children</th>\n",
       "      <th>smoker</th>\n",
       "      <th>region</th>\n",
       "    </tr>\n",
       "  </thead>\n",
       "  <tbody>\n",
       "    <tr>\n",
       "      <th>0</th>\n",
       "      <td>-1.347883</td>\n",
       "      <td>-1.009771</td>\n",
       "      <td>-0.453160</td>\n",
       "      <td>1.282425</td>\n",
       "      <td>-0.909234</td>\n",
       "      <td>1.969660</td>\n",
       "      <td>1.343163</td>\n",
       "    </tr>\n",
       "    <tr>\n",
       "      <th>1</th>\n",
       "      <td>-1.414779</td>\n",
       "      <td>0.990324</td>\n",
       "      <td>0.509422</td>\n",
       "      <td>-0.691407</td>\n",
       "      <td>-0.079442</td>\n",
       "      <td>-0.507702</td>\n",
       "      <td>0.438017</td>\n",
       "    </tr>\n",
       "    <tr>\n",
       "      <th>2</th>\n",
       "      <td>-0.745816</td>\n",
       "      <td>0.990324</td>\n",
       "      <td>0.383155</td>\n",
       "      <td>-0.691407</td>\n",
       "      <td>1.580143</td>\n",
       "      <td>-0.507702</td>\n",
       "      <td>0.438017</td>\n",
       "    </tr>\n",
       "    <tr>\n",
       "      <th>3</th>\n",
       "      <td>-2.618912</td>\n",
       "      <td>0.990324</td>\n",
       "      <td>-1.305052</td>\n",
       "      <td>-1.349351</td>\n",
       "      <td>-0.909234</td>\n",
       "      <td>-0.507702</td>\n",
       "      <td>-0.467128</td>\n",
       "    </tr>\n",
       "    <tr>\n",
       "      <th>4</th>\n",
       "      <td>-0.478231</td>\n",
       "      <td>0.990324</td>\n",
       "      <td>-0.292456</td>\n",
       "      <td>1.282425</td>\n",
       "      <td>-0.909234</td>\n",
       "      <td>-0.507702</td>\n",
       "      <td>-0.467128</td>\n",
       "    </tr>\n",
       "    <tr>\n",
       "      <th>...</th>\n",
       "      <td>...</td>\n",
       "      <td>...</td>\n",
       "      <td>...</td>\n",
       "      <td>...</td>\n",
       "      <td>...</td>\n",
       "      <td>...</td>\n",
       "      <td>...</td>\n",
       "    </tr>\n",
       "    <tr>\n",
       "      <th>1332</th>\n",
       "      <td>0.725902</td>\n",
       "      <td>0.990324</td>\n",
       "      <td>0.050269</td>\n",
       "      <td>-0.691407</td>\n",
       "      <td>1.580143</td>\n",
       "      <td>-0.507702</td>\n",
       "      <td>-0.467128</td>\n",
       "    </tr>\n",
       "    <tr>\n",
       "      <th>1333</th>\n",
       "      <td>-1.414779</td>\n",
       "      <td>-1.009771</td>\n",
       "      <td>0.206053</td>\n",
       "      <td>-0.691407</td>\n",
       "      <td>-0.909234</td>\n",
       "      <td>-0.507702</td>\n",
       "      <td>-1.372274</td>\n",
       "    </tr>\n",
       "    <tr>\n",
       "      <th>1334</th>\n",
       "      <td>-1.414779</td>\n",
       "      <td>-1.009771</td>\n",
       "      <td>1.014490</td>\n",
       "      <td>-0.033463</td>\n",
       "      <td>-0.909234</td>\n",
       "      <td>-0.507702</td>\n",
       "      <td>0.438017</td>\n",
       "    </tr>\n",
       "    <tr>\n",
       "      <th>1335</th>\n",
       "      <td>-1.214090</td>\n",
       "      <td>-1.009771</td>\n",
       "      <td>-0.797524</td>\n",
       "      <td>1.282425</td>\n",
       "      <td>-0.909234</td>\n",
       "      <td>-0.507702</td>\n",
       "      <td>1.343163</td>\n",
       "    </tr>\n",
       "    <tr>\n",
       "      <th>1336</th>\n",
       "      <td>-2.685808</td>\n",
       "      <td>-1.009771</td>\n",
       "      <td>-0.261299</td>\n",
       "      <td>1.282425</td>\n",
       "      <td>-0.909234</td>\n",
       "      <td>1.969660</td>\n",
       "      <td>-0.467128</td>\n",
       "    </tr>\n",
       "  </tbody>\n",
       "</table>\n",
       "<p>1337 rows × 7 columns</p>\n",
       "</div>"
      ],
      "text/plain": [
       "           age       sex       bmi   classif  children    smoker    region\n",
       "0    -1.347883 -1.009771 -0.453160  1.282425 -0.909234  1.969660  1.343163\n",
       "1    -1.414779  0.990324  0.509422 -0.691407 -0.079442 -0.507702  0.438017\n",
       "2    -0.745816  0.990324  0.383155 -0.691407  1.580143 -0.507702  0.438017\n",
       "3    -2.618912  0.990324 -1.305052 -1.349351 -0.909234 -0.507702 -0.467128\n",
       "4    -0.478231  0.990324 -0.292456  1.282425 -0.909234 -0.507702 -0.467128\n",
       "...        ...       ...       ...       ...       ...       ...       ...\n",
       "1332  0.725902  0.990324  0.050269 -0.691407  1.580143 -0.507702 -0.467128\n",
       "1333 -1.414779 -1.009771  0.206053 -0.691407 -0.909234 -0.507702 -1.372274\n",
       "1334 -1.414779 -1.009771  1.014490 -0.033463 -0.909234 -0.507702  0.438017\n",
       "1335 -1.214090 -1.009771 -0.797524  1.282425 -0.909234 -0.507702  1.343163\n",
       "1336 -2.685808 -1.009771 -0.261299  1.282425 -0.909234  1.969660 -0.467128\n",
       "\n",
       "[1337 rows x 7 columns]"
      ]
     },
     "execution_count": 99,
     "metadata": {},
     "output_type": "execute_result"
    }
   ],
   "source": [
    "scaled"
   ]
  },
  {
   "cell_type": "code",
   "execution_count": 100,
   "id": "e95ed1d7",
   "metadata": {},
   "outputs": [
    {
     "name": "stdout",
     "output_type": "stream",
     "text": [
      "Enter age : -1.347883\n",
      "Enter Gender : 0.990324\n",
      "Enter bmi : 0.383155\n",
      "Enter classif : -1.349351\n",
      "Enter children : -0.909234\n",
      "Enter smoker : -0.507702\t\n",
      "Enter region : -0.467128\n"
     ]
    }
   ],
   "source": [
    "new_input1=pred1()"
   ]
  },
  {
   "cell_type": "code",
   "execution_count": 101,
   "id": "67c48281",
   "metadata": {},
   "outputs": [
    {
     "data": {
      "text/plain": [
       "['-1.347883',\n",
       " '0.990324',\n",
       " '0.383155',\n",
       " '-1.349351',\n",
       " '-0.909234',\n",
       " '-0.507702\\t',\n",
       " '-0.467128']"
      ]
     },
     "execution_count": 101,
     "metadata": {},
     "output_type": "execute_result"
    }
   ],
   "source": [
    "new_input1\n"
   ]
  },
  {
   "cell_type": "code",
   "execution_count": 102,
   "id": "21fb17f7",
   "metadata": {},
   "outputs": [],
   "source": [
    "new_data1.loc[len(new_data1)]=new_input1"
   ]
  },
  {
   "cell_type": "code",
   "execution_count": 103,
   "id": "2a61c03b",
   "metadata": {},
   "outputs": [
    {
     "data": {
      "text/html": [
       "<div>\n",
       "<style scoped>\n",
       "    .dataframe tbody tr th:only-of-type {\n",
       "        vertical-align: middle;\n",
       "    }\n",
       "\n",
       "    .dataframe tbody tr th {\n",
       "        vertical-align: top;\n",
       "    }\n",
       "\n",
       "    .dataframe thead th {\n",
       "        text-align: right;\n",
       "    }\n",
       "</style>\n",
       "<table border=\"1\" class=\"dataframe\">\n",
       "  <thead>\n",
       "    <tr style=\"text-align: right;\">\n",
       "      <th></th>\n",
       "      <th>Age</th>\n",
       "      <th>Gender</th>\n",
       "      <th>bmi</th>\n",
       "      <th>classif</th>\n",
       "      <th>children</th>\n",
       "      <th>smoker</th>\n",
       "      <th>region</th>\n",
       "    </tr>\n",
       "  </thead>\n",
       "  <tbody>\n",
       "    <tr>\n",
       "      <th>0</th>\n",
       "      <td>-1.347883</td>\n",
       "      <td>0.990324</td>\n",
       "      <td>0.383155</td>\n",
       "      <td>-1.349351</td>\n",
       "      <td>-0.909234</td>\n",
       "      <td>-0.507702\\t</td>\n",
       "      <td>-0.467128</td>\n",
       "    </tr>\n",
       "  </tbody>\n",
       "</table>\n",
       "</div>"
      ],
      "text/plain": [
       "         Age    Gender       bmi    classif   children       smoker     region\n",
       "0  -1.347883  0.990324  0.383155  -1.349351  -0.909234  -0.507702\\t  -0.467128"
      ]
     },
     "execution_count": 103,
     "metadata": {},
     "output_type": "execute_result"
    }
   ],
   "source": [
    "new_data1"
   ]
  },
  {
   "cell_type": "code",
   "execution_count": 104,
   "id": "2192f212",
   "metadata": {},
   "outputs": [
    {
     "name": "stdout",
     "output_type": "stream",
     "text": [
      "[5588.59026206]\n"
     ]
    }
   ],
   "source": [
    "predict1=lr.predict(new_data1)\n",
    "    \n",
    "print(predict1)"
   ]
  },
  {
   "cell_type": "code",
   "execution_count": null,
   "id": "ad1b202b",
   "metadata": {},
   "outputs": [],
   "source": []
  }
 ],
 "metadata": {
  "kernelspec": {
   "display_name": "Python 3 (ipykernel)",
   "language": "python",
   "name": "python3"
  },
  "language_info": {
   "codemirror_mode": {
    "name": "ipython",
    "version": 3
   },
   "file_extension": ".py",
   "mimetype": "text/x-python",
   "name": "python",
   "nbconvert_exporter": "python",
   "pygments_lexer": "ipython3",
   "version": "3.9.12"
  }
 },
 "nbformat": 4,
 "nbformat_minor": 5
}
